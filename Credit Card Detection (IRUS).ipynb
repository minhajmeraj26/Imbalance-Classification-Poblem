{
 "cells": [
  {
   "cell_type": "code",
   "execution_count": 1,
   "id": "53a126e4",
   "metadata": {
    "execution": {
     "iopub.execute_input": "2022-06-18T19:33:01.520759Z",
     "iopub.status.busy": "2022-06-18T19:33:01.520195Z",
     "iopub.status.idle": "2022-06-18T19:33:15.982737Z",
     "shell.execute_reply": "2022-06-18T19:33:15.981658Z"
    },
    "papermill": {
     "duration": 14.526828,
     "end_time": "2022-06-18T19:33:15.985774",
     "exception": false,
     "start_time": "2022-06-18T19:33:01.458946",
     "status": "completed"
    },
    "tags": []
   },
   "outputs": [
    {
     "name": "stdout",
     "output_type": "stream",
     "text": [
      "Collecting scikit-learn==0.22.0\r\n",
      "  Downloading scikit_learn-0.22-cp37-cp37m-manylinux1_x86_64.whl (7.0 MB)\r\n",
      "\u001b[2K     \u001b[90m━━━━━━━━━━━━━━━━━━━━━━━━━━━━━━━━━━━━━━━━\u001b[0m \u001b[32m7.0/7.0 MB\u001b[0m \u001b[31m13.1 MB/s\u001b[0m eta \u001b[36m0:00:00\u001b[0m\r\n",
      "\u001b[?25hRequirement already satisfied: numpy>=1.11.0 in /opt/conda/lib/python3.7/site-packages (from scikit-learn==0.22.0) (1.21.6)\r\n",
      "Requirement already satisfied: joblib>=0.11 in /opt/conda/lib/python3.7/site-packages (from scikit-learn==0.22.0) (1.0.1)\r\n",
      "Requirement already satisfied: scipy>=0.17.0 in /opt/conda/lib/python3.7/site-packages (from scikit-learn==0.22.0) (1.7.3)\r\n",
      "Installing collected packages: scikit-learn\r\n",
      "  Attempting uninstall: scikit-learn\r\n",
      "    Found existing installation: scikit-learn 1.0.2\r\n",
      "    Uninstalling scikit-learn-1.0.2:\r\n",
      "      Successfully uninstalled scikit-learn-1.0.2\r\n",
      "\u001b[31mERROR: pip's dependency resolver does not currently take into account all the packages that are installed. This behaviour is the source of the following dependency conflicts.\r\n",
      "yellowbrick 1.4 requires scikit-learn>=1.0.0, but you have scikit-learn 0.22 which is incompatible.\r\n",
      "sklearn-pandas 2.2.0 requires scikit-learn>=0.23.0, but you have scikit-learn 0.22 which is incompatible.\r\n",
      "pdpbox 0.2.1 requires matplotlib==3.1.1, but you have matplotlib 3.5.1 which is incompatible.\r\n",
      "lightgbm 3.3.1 requires scikit-learn!=0.22.0, but you have scikit-learn 0.22 which is incompatible.\r\n",
      "imbalanced-learn 0.9.0 requires scikit-learn>=1.0.1, but you have scikit-learn 0.22 which is incompatible.\r\n",
      "hypertools 0.8.0 requires scikit-learn>=0.24, but you have scikit-learn 0.22 which is incompatible.\r\n",
      "cesium 0.9.12 requires scikit-learn>=0.22.1, but you have scikit-learn 0.22 which is incompatible.\u001b[0m\u001b[31m\r\n",
      "\u001b[0mSuccessfully installed scikit-learn-0.22\r\n",
      "\u001b[33mWARNING: Running pip as the 'root' user can result in broken permissions and conflicting behaviour with the system package manager. It is recommended to use a virtual environment instead: https://pip.pypa.io/warnings/venv\u001b[0m\u001b[33m\r\n",
      "\u001b[0mNote: you may need to restart the kernel to use updated packages.\n"
     ]
    }
   ],
   "source": [
    "pip install scikit-learn==0.22.0"
   ]
  },
  {
   "cell_type": "code",
   "execution_count": 1,
   "id": "330db319",
   "metadata": {
    "execution": {
     "iopub.execute_input": "2022-06-18T19:33:16.128554Z",
     "iopub.status.busy": "2022-06-18T19:33:16.128324Z",
     "iopub.status.idle": "2022-06-18T19:33:17.163430Z",
     "shell.execute_reply": "2022-06-18T19:33:17.162733Z"
    },
    "papermill": {
     "duration": 1.109815,
     "end_time": "2022-06-18T19:33:17.165605",
     "exception": false,
     "start_time": "2022-06-18T19:33:16.055790",
     "status": "completed"
    },
    "tags": []
   },
   "outputs": [],
   "source": [
    "import warnings\n",
    "import numpy as np\n",
    "import pandas as pd\n",
    "import matplotlib.pyplot as plt\n",
    "import seaborn as sns\n",
    "\n",
    "from sklearn import linear_model\n",
    "from sklearn.linear_model import LogisticRegression\n",
    "from sklearn.tree import DecisionTreeClassifier\n",
    "from sklearn.ensemble import RandomForestClassifier\n",
    "from sklearn.model_selection import GridSearchCV\n",
    "\n",
    "from sklearn.metrics import classification_report,accuracy_score,confusion_matrix,plot_confusion_matrix,precision_recall_fscore_support,plot_roc_curve\n",
    "from sklearn import metrics\n",
    "\n",
    "import sklearn.exceptions\n",
    "warnings.filterwarnings(\"ignore\", category=sklearn.exceptions.UndefinedMetricWarning)"
   ]
  },
  {
   "cell_type": "code",
   "execution_count": 2,
   "id": "2b916527",
   "metadata": {
    "execution": {
     "iopub.execute_input": "2022-06-18T19:33:17.296913Z",
     "iopub.status.busy": "2022-06-18T19:33:17.296696Z",
     "iopub.status.idle": "2022-06-18T19:33:29.726210Z",
     "shell.execute_reply": "2022-06-18T19:33:29.725441Z"
    },
    "papermill": {
     "duration": 12.496934,
     "end_time": "2022-06-18T19:33:29.728263",
     "exception": false,
     "start_time": "2022-06-18T19:33:17.231329",
     "status": "completed"
    },
    "tags": []
   },
   "outputs": [],
   "source": [
    "#1 loading data\n",
    "data_train = pd.read_csv(\"Dataset/fraudTrain.csv\")\n",
    "data_test = pd.read_csv(\"Dataset/fraudTest.csv\")"
   ]
  },
  {
   "cell_type": "code",
   "execution_count": 10,
   "id": "81ecd395",
   "metadata": {
    "execution": {
     "iopub.execute_input": "2022-06-18T19:33:29.859012Z",
     "iopub.status.busy": "2022-06-18T19:33:29.858780Z",
     "iopub.status.idle": "2022-06-18T19:33:31.309406Z",
     "shell.execute_reply": "2022-06-18T19:33:31.308642Z"
    },
    "papermill": {
     "duration": 1.519238,
     "end_time": "2022-06-18T19:33:31.311918",
     "exception": false,
     "start_time": "2022-06-18T19:33:29.792680",
     "status": "completed"
    },
    "tags": []
   },
   "outputs": [
    {
     "name": "stdout",
     "output_type": "stream",
     "text": [
      "<class 'pandas.core.frame.DataFrame'>\n",
      "RangeIndex: 1296675 entries, 0 to 1296674\n",
      "Data columns (total 23 columns):\n",
      " #   Column                 Non-Null Count    Dtype  \n",
      "---  ------                 --------------    -----  \n",
      " 0   Unnamed: 0             1296675 non-null  int64  \n",
      " 1   trans_date_trans_time  1296675 non-null  object \n",
      " 2   cc_num                 1296675 non-null  int64  \n",
      " 3   merchant               1296675 non-null  object \n",
      " 4   category               1296675 non-null  object \n",
      " 5   amt                    1296675 non-null  float64\n",
      " 6   first                  1296675 non-null  object \n",
      " 7   last                   1296675 non-null  object \n",
      " 8   gender                 1296675 non-null  object \n",
      " 9   street                 1296675 non-null  object \n",
      " 10  city                   1296675 non-null  object \n",
      " 11  state                  1296675 non-null  object \n",
      " 12  zip                    1296675 non-null  int64  \n",
      " 13  lat                    1296675 non-null  float64\n",
      " 14  long                   1296675 non-null  float64\n",
      " 15  city_pop               1296675 non-null  int64  \n",
      " 16  job                    1296675 non-null  object \n",
      " 17  dob                    1296675 non-null  object \n",
      " 18  trans_num              1296675 non-null  object \n",
      " 19  unix_time              1296675 non-null  int64  \n",
      " 20  merch_lat              1296675 non-null  float64\n",
      " 21  merch_long             1296675 non-null  float64\n",
      " 22  is_fraud               1296675 non-null  int64  \n",
      "dtypes: float64(5), int64(6), object(12)\n",
      "memory usage: 227.5+ MB\n"
     ]
    }
   ],
   "source": [
    "#2 Exploratory Data Analysis\n",
    "data_train.info()"
   ]
  },
  {
   "cell_type": "markdown",
   "id": "f833d719",
   "metadata": {},
   "source": [
    "# Data Dictionary\n",
    "\n",
    "- trans_date_trans_time -> Transaction time stamp\n",
    "\n",
    "- cc_num -> Credit card number\n",
    "\n",
    "- merchant -> merchant name\n",
    "\n",
    "- category -> transaction category\n",
    "\n",
    "- amt -> Transaction amount\n",
    "\n",
    "- first -> First name of card holder\n",
    "\n",
    "- last -> Last name of card holder\n",
    "\n",
    "- gender -> Sex of card holder\n",
    "\n",
    "- street -> transaction address\n",
    "\n",
    "- city -> transaction city\n",
    "\n",
    "- state -> transaction state\n",
    "\n",
    "- zip -> transaction zipcode\n",
    "\n",
    "- lat -> transaction lattitude\n",
    "\n",
    "- long -> transaction longitude\n",
    "\n",
    "- city_pop -> Population of the city\n",
    "\n",
    "- job -> job of the card holder\n",
    "\n",
    "- dob -> date of birth of card holder\n",
    "\n",
    "- trans_num -> transaction number of transaction\n",
    "\n",
    "- unix_time -> time in unix format\n",
    "\n",
    "- merch_lat -> lattitude of the merchant\n",
    "\n",
    "- merch_long -> longitude of merchant\n",
    "\n",
    "- is_fraud -> nature of transaction (fraud or not fraud)\n",
    "\n",
    "- Here, the 'is_fraud' variables is our target variable."
   ]
  },
  {
   "cell_type": "code",
   "execution_count": 11,
   "id": "e4bc5dfc",
   "metadata": {
    "execution": {
     "iopub.execute_input": "2022-06-18T19:33:31.441952Z",
     "iopub.status.busy": "2022-06-18T19:33:31.441733Z",
     "iopub.status.idle": "2022-06-18T19:33:31.446173Z",
     "shell.execute_reply": "2022-06-18T19:33:31.445377Z"
    },
    "papermill": {
     "duration": 0.072907,
     "end_time": "2022-06-18T19:33:31.449346",
     "exception": false,
     "start_time": "2022-06-18T19:33:31.376439",
     "status": "completed"
    },
    "tags": []
   },
   "outputs": [
    {
     "name": "stdout",
     "output_type": "stream",
     "text": [
      "Train Data Shape (1296675, 23) \n",
      "Test Data Shape (555719, 23)\n"
     ]
    }
   ],
   "source": [
    "print(\"Train Data Shape {0} \\nTest Data Shape {1}\".format(data_train.shape,data_test.shape))"
   ]
  },
  {
   "cell_type": "code",
   "execution_count": 12,
   "id": "cc182de9",
   "metadata": {
    "execution": {
     "iopub.execute_input": "2022-06-18T19:33:31.580042Z",
     "iopub.status.busy": "2022-06-18T19:33:31.579852Z",
     "iopub.status.idle": "2022-06-18T19:33:31.829887Z",
     "shell.execute_reply": "2022-06-18T19:33:31.829087Z"
    },
    "papermill": {
     "duration": 0.317726,
     "end_time": "2022-06-18T19:33:31.832559",
     "exception": false,
     "start_time": "2022-06-18T19:33:31.514833",
     "status": "completed"
    },
    "tags": []
   },
   "outputs": [
    {
     "name": "stdout",
     "output_type": "stream",
     "text": [
      "Train Data Shape (129668, 23) \n",
      "Test Data Shape (27786, 23)\n"
     ]
    }
   ],
   "source": [
    "# Sampling Fractions of data\n",
    "df_train= data_train.sample(frac = 0.1,random_state=1)\n",
    "df_test= data_test.sample(frac = 0.05,random_state=1)\n",
    "print(\"Train Data Shape {0} \\nTest Data Shape {1}\".format(df_train.shape,df_test.shape))"
   ]
  },
  {
   "cell_type": "code",
   "execution_count": 13,
   "id": "36dd4d7a",
   "metadata": {
    "execution": {
     "iopub.execute_input": "2022-06-18T19:33:31.965578Z",
     "iopub.status.busy": "2022-06-18T19:33:31.965359Z",
     "iopub.status.idle": "2022-06-18T19:33:31.992782Z",
     "shell.execute_reply": "2022-06-18T19:33:31.992071Z"
    },
    "papermill": {
     "duration": 0.095994,
     "end_time": "2022-06-18T19:33:31.994475",
     "exception": false,
     "start_time": "2022-06-18T19:33:31.898481",
     "status": "completed"
    },
    "tags": []
   },
   "outputs": [
    {
     "data": {
      "text/html": [
       "<div>\n",
       "<style scoped>\n",
       "    .dataframe tbody tr th:only-of-type {\n",
       "        vertical-align: middle;\n",
       "    }\n",
       "\n",
       "    .dataframe tbody tr th {\n",
       "        vertical-align: top;\n",
       "    }\n",
       "\n",
       "    .dataframe thead th {\n",
       "        text-align: right;\n",
       "    }\n",
       "</style>\n",
       "<table border=\"1\" class=\"dataframe\">\n",
       "  <thead>\n",
       "    <tr style=\"text-align: right;\">\n",
       "      <th></th>\n",
       "      <th>Unnamed: 0</th>\n",
       "      <th>trans_date_trans_time</th>\n",
       "      <th>cc_num</th>\n",
       "      <th>merchant</th>\n",
       "      <th>category</th>\n",
       "      <th>amt</th>\n",
       "      <th>first</th>\n",
       "      <th>last</th>\n",
       "      <th>gender</th>\n",
       "      <th>street</th>\n",
       "      <th>...</th>\n",
       "      <th>lat</th>\n",
       "      <th>long</th>\n",
       "      <th>city_pop</th>\n",
       "      <th>job</th>\n",
       "      <th>dob</th>\n",
       "      <th>trans_num</th>\n",
       "      <th>unix_time</th>\n",
       "      <th>merch_lat</th>\n",
       "      <th>merch_long</th>\n",
       "      <th>is_fraud</th>\n",
       "    </tr>\n",
       "  </thead>\n",
       "  <tbody>\n",
       "    <tr>\n",
       "      <th>94102</th>\n",
       "      <td>94102</td>\n",
       "      <td>2019-02-25 08:24:40</td>\n",
       "      <td>374497717543058</td>\n",
       "      <td>fraud_Funk Group</td>\n",
       "      <td>grocery_net</td>\n",
       "      <td>20.00</td>\n",
       "      <td>Linda</td>\n",
       "      <td>Hurst</td>\n",
       "      <td>F</td>\n",
       "      <td>31701 Tucker Square Suite 893</td>\n",
       "      <td>...</td>\n",
       "      <td>47.1709</td>\n",
       "      <td>-100.7944</td>\n",
       "      <td>1190</td>\n",
       "      <td>Designer, ceramics/pottery</td>\n",
       "      <td>1948-06-30</td>\n",
       "      <td>1595dec12f6f19ceaae9b7df0f8af5c0</td>\n",
       "      <td>1330158280</td>\n",
       "      <td>46.398331</td>\n",
       "      <td>-99.813959</td>\n",
       "      <td>0</td>\n",
       "    </tr>\n",
       "    <tr>\n",
       "      <th>198791</th>\n",
       "      <td>198791</td>\n",
       "      <td>2019-04-12 19:50:15</td>\n",
       "      <td>4428154703770710</td>\n",
       "      <td>fraud_Prosacco, Kreiger and Kovacek</td>\n",
       "      <td>home</td>\n",
       "      <td>284.88</td>\n",
       "      <td>Brittany</td>\n",
       "      <td>Guerra</td>\n",
       "      <td>F</td>\n",
       "      <td>79209 Gary Dale</td>\n",
       "      <td>...</td>\n",
       "      <td>46.5901</td>\n",
       "      <td>-117.1692</td>\n",
       "      <td>761</td>\n",
       "      <td>Chief Marketing Officer</td>\n",
       "      <td>1943-06-30</td>\n",
       "      <td>0ed26b649ed0fce94d8e632b7208dea0</td>\n",
       "      <td>1334260215</td>\n",
       "      <td>45.687331</td>\n",
       "      <td>-117.488135</td>\n",
       "      <td>0</td>\n",
       "    </tr>\n",
       "    <tr>\n",
       "      <th>1238587</th>\n",
       "      <td>1238587</td>\n",
       "      <td>2020-05-31 21:50:53</td>\n",
       "      <td>213148039875802</td>\n",
       "      <td>fraud_Langworth, Boehm and Gulgowski</td>\n",
       "      <td>shopping_net</td>\n",
       "      <td>5.07</td>\n",
       "      <td>Jill</td>\n",
       "      <td>Jacobs</td>\n",
       "      <td>F</td>\n",
       "      <td>034 Kimberly Mountains</td>\n",
       "      <td>...</td>\n",
       "      <td>27.9551</td>\n",
       "      <td>-82.2966</td>\n",
       "      <td>79613</td>\n",
       "      <td>Environmental consultant</td>\n",
       "      <td>1978-11-30</td>\n",
       "      <td>7096316ec1a4b261e8613013827abae7</td>\n",
       "      <td>1370037053</td>\n",
       "      <td>27.254081</td>\n",
       "      <td>-81.974799</td>\n",
       "      <td>0</td>\n",
       "    </tr>\n",
       "  </tbody>\n",
       "</table>\n",
       "<p>3 rows × 23 columns</p>\n",
       "</div>"
      ],
      "text/plain": [
       "         Unnamed: 0 trans_date_trans_time            cc_num  \\\n",
       "94102         94102   2019-02-25 08:24:40   374497717543058   \n",
       "198791       198791   2019-04-12 19:50:15  4428154703770710   \n",
       "1238587     1238587   2020-05-31 21:50:53   213148039875802   \n",
       "\n",
       "                                     merchant      category     amt     first  \\\n",
       "94102                        fraud_Funk Group   grocery_net   20.00     Linda   \n",
       "198791    fraud_Prosacco, Kreiger and Kovacek          home  284.88  Brittany   \n",
       "1238587  fraud_Langworth, Boehm and Gulgowski  shopping_net    5.07      Jill   \n",
       "\n",
       "           last gender                         street  ...      lat      long  \\\n",
       "94102     Hurst      F  31701 Tucker Square Suite 893  ...  47.1709 -100.7944   \n",
       "198791   Guerra      F                79209 Gary Dale  ...  46.5901 -117.1692   \n",
       "1238587  Jacobs      F         034 Kimberly Mountains  ...  27.9551  -82.2966   \n",
       "\n",
       "         city_pop                         job         dob  \\\n",
       "94102        1190  Designer, ceramics/pottery  1948-06-30   \n",
       "198791        761     Chief Marketing Officer  1943-06-30   \n",
       "1238587     79613    Environmental consultant  1978-11-30   \n",
       "\n",
       "                                trans_num   unix_time  merch_lat  merch_long  \\\n",
       "94102    1595dec12f6f19ceaae9b7df0f8af5c0  1330158280  46.398331  -99.813959   \n",
       "198791   0ed26b649ed0fce94d8e632b7208dea0  1334260215  45.687331 -117.488135   \n",
       "1238587  7096316ec1a4b261e8613013827abae7  1370037053  27.254081  -81.974799   \n",
       "\n",
       "         is_fraud  \n",
       "94102           0  \n",
       "198791          0  \n",
       "1238587         0  \n",
       "\n",
       "[3 rows x 23 columns]"
      ]
     },
     "execution_count": 13,
     "metadata": {},
     "output_type": "execute_result"
    }
   ],
   "source": [
    "df_train.head(3)"
   ]
  },
  {
   "cell_type": "code",
   "execution_count": 14,
   "id": "7ac2b479",
   "metadata": {
    "execution": {
     "iopub.execute_input": "2022-06-18T19:33:32.126954Z",
     "iopub.status.busy": "2022-06-18T19:33:32.126465Z",
     "iopub.status.idle": "2022-06-18T19:33:32.301739Z",
     "shell.execute_reply": "2022-06-18T19:33:32.301003Z"
    },
    "papermill": {
     "duration": 0.242907,
     "end_time": "2022-06-18T19:33:32.303531",
     "exception": false,
     "start_time": "2022-06-18T19:33:32.060624",
     "status": "completed"
    },
    "tags": []
   },
   "outputs": [
    {
     "data": {
      "text/plain": [
       "Unnamed: 0               0\n",
       "trans_date_trans_time    0\n",
       "cc_num                   0\n",
       "merchant                 0\n",
       "category                 0\n",
       "amt                      0\n",
       "first                    0\n",
       "last                     0\n",
       "gender                   0\n",
       "street                   0\n",
       "city                     0\n",
       "state                    0\n",
       "zip                      0\n",
       "lat                      0\n",
       "long                     0\n",
       "city_pop                 0\n",
       "job                      0\n",
       "dob                      0\n",
       "trans_num                0\n",
       "unix_time                0\n",
       "merch_lat                0\n",
       "merch_long               0\n",
       "is_fraud                 0\n",
       "dtype: int64"
      ]
     },
     "execution_count": 14,
     "metadata": {},
     "output_type": "execute_result"
    }
   ],
   "source": [
    "# Null Values\n",
    "df_train.isnull().sum()"
   ]
  },
  {
   "cell_type": "code",
   "execution_count": 15,
   "id": "a597b7e3",
   "metadata": {
    "execution": {
     "iopub.execute_input": "2022-06-18T19:33:32.436941Z",
     "iopub.status.busy": "2022-06-18T19:33:32.436495Z",
     "iopub.status.idle": "2022-06-18T19:33:32.480679Z",
     "shell.execute_reply": "2022-06-18T19:33:32.479971Z"
    },
    "papermill": {
     "duration": 0.112872,
     "end_time": "2022-06-18T19:33:32.482306",
     "exception": false,
     "start_time": "2022-06-18T19:33:32.369434",
     "status": "completed"
    },
    "tags": []
   },
   "outputs": [
    {
     "data": {
      "text/plain": [
       "Unnamed: 0               0\n",
       "trans_date_trans_time    0\n",
       "cc_num                   0\n",
       "merchant                 0\n",
       "category                 0\n",
       "amt                      0\n",
       "first                    0\n",
       "last                     0\n",
       "gender                   0\n",
       "street                   0\n",
       "city                     0\n",
       "state                    0\n",
       "zip                      0\n",
       "lat                      0\n",
       "long                     0\n",
       "city_pop                 0\n",
       "job                      0\n",
       "dob                      0\n",
       "trans_num                0\n",
       "unix_time                0\n",
       "merch_lat                0\n",
       "merch_long               0\n",
       "is_fraud                 0\n",
       "dtype: int64"
      ]
     },
     "execution_count": 15,
     "metadata": {},
     "output_type": "execute_result"
    }
   ],
   "source": [
    "df_test.isnull().sum()"
   ]
  },
  {
   "cell_type": "code",
   "execution_count": 16,
   "id": "4785bf39",
   "metadata": {
    "execution": {
     "iopub.execute_input": "2022-06-18T19:33:32.613037Z",
     "iopub.status.busy": "2022-06-18T19:33:32.612844Z",
     "iopub.status.idle": "2022-06-18T19:33:33.481032Z",
     "shell.execute_reply": "2022-06-18T19:33:33.480358Z"
    },
    "papermill": {
     "duration": 0.936466,
     "end_time": "2022-06-18T19:33:33.483726",
     "exception": false,
     "start_time": "2022-06-18T19:33:32.547260",
     "status": "completed"
    },
    "tags": []
   },
   "outputs": [
    {
     "data": {
      "image/png": "[encoded data removed]",
      "text/plain": [
       "<Figure size 1080x1080 with 2 Axes>"
      ]
     },
     "metadata": {
      "needs_background": "light"
     },
     "output_type": "display_data"
    }
   ],
   "source": [
    "# Correlation Matrix\n",
    "corrMatrix = df_train.corr()\n",
    "plt.figure(figsize=(15,15))\n",
    "\n",
    "#plot heat map\n",
    "g = sns.heatmap(corrMatrix,annot = True,cmap=\"YlGnBu\")"
   ]
  },
  {
   "cell_type": "code",
   "execution_count": 21,
   "id": "a49b28ba",
   "metadata": {
    "execution": {
     "iopub.execute_input": "2022-06-18T19:33:33.621069Z",
     "iopub.status.busy": "2022-06-18T19:33:33.620866Z",
     "iopub.status.idle": "2022-06-18T19:33:35.107649Z",
     "shell.execute_reply": "2022-06-18T19:33:35.106993Z"
    },
    "papermill": {
     "duration": 1.557869,
     "end_time": "2022-06-18T19:33:35.109968",
     "exception": false,
     "start_time": "2022-06-18T19:33:33.552099",
     "status": "completed"
    },
    "tags": []
   },
   "outputs": [
    {
     "data": {
      "text/plain": [
       "<AxesSubplot:xlabel='unix_time'>"
      ]
     },
     "execution_count": 21,
     "metadata": {},
     "output_type": "execute_result"
    },
    {
     "data": {
      "image/png": "[encoded data removed]",
      "text/plain": [
       "<Figure size 432x288 with 1 Axes>"
      ]
     },
     "metadata": {
      "needs_background": "light"
     },
     "output_type": "display_data"
    }
   ],
   "source": [
    "#visual representation of the data using histograms \n",
    "sns.distplot(df_train['unix_time'], kde = False)"
   ]
  },
  {
   "cell_type": "code",
   "execution_count": 19,
   "id": "db34fefe",
   "metadata": {},
   "outputs": [
    {
     "data": {
      "image/png": "[encoded data removed]",
      "text/plain": [
       "<Figure size 1080x1080 with 12 Axes>"
      ]
     },
     "metadata": {
      "needs_background": "light"
     },
     "output_type": "display_data"
    }
   ],
   "source": [
    "df_train.hist(figsize = (15, 15))\n",
    "plt.show()"
   ]
  },
  {
   "cell_type": "code",
   "execution_count": 22,
   "id": "fab6bb22",
   "metadata": {
    "execution": {
     "iopub.execute_input": "2022-06-18T19:33:35.253676Z",
     "iopub.status.busy": "2022-06-18T19:33:35.253473Z",
     "iopub.status.idle": "2022-06-18T19:33:35.422621Z",
     "shell.execute_reply": "2022-06-18T19:33:35.421980Z"
    },
    "papermill": {
     "duration": 0.243619,
     "end_time": "2022-06-18T19:33:35.424234",
     "exception": false,
     "start_time": "2022-06-18T19:33:35.180615",
     "status": "completed"
    },
    "tags": []
   },
   "outputs": [
    {
     "data": {
      "text/plain": [
       "Text(0, 0.5, 'Frequency')"
      ]
     },
     "execution_count": 22,
     "metadata": {},
     "output_type": "execute_result"
    },
    {
     "data": {
      "image/png": "[encoded data removed]",
      "text/plain": [
       "<Figure size 360x360 with 1 Axes>"
      ]
     },
     "metadata": {
      "needs_background": "light"
     },
     "output_type": "display_data"
    }
   ],
   "source": [
    "# plotting the classes\n",
    "plt.figure(figsize=(5,5))\n",
    "class_dist = pd.value_counts(df_train['is_fraud'], sort = True)\n",
    "class_dist.plot(kind = 'bar', rot = 0)\n",
    "\n",
    "plt.title(\"Transaction Class Distribution\")\n",
    "LABELS = ['Normal','Fraud']\n",
    "plt.xticks(range(2), LABELS)\n",
    "plt.ylabel(\"Frequency\")"
   ]
  },
  {
   "cell_type": "code",
   "execution_count": 23,
   "id": "66cb440b",
   "metadata": {
    "execution": {
     "iopub.execute_input": "2022-06-18T19:33:35.567763Z",
     "iopub.status.busy": "2022-06-18T19:33:35.567559Z",
     "iopub.status.idle": "2022-06-18T19:33:44.298696Z",
     "shell.execute_reply": "2022-06-18T19:33:44.298024Z"
    },
    "papermill": {
     "duration": 8.80601,
     "end_time": "2022-06-18T19:33:44.300645",
     "exception": false,
     "start_time": "2022-06-18T19:33:35.494635",
     "status": "completed"
    },
    "tags": []
   },
   "outputs": [
    {
     "data": {
      "text/plain": [
       "<seaborn.axisgrid.FacetGrid at 0x1e09bcef0a0>"
      ]
     },
     "execution_count": 23,
     "metadata": {},
     "output_type": "execute_result"
    },
    {
     "data": {
      "image/png": "[encoded data removed]",
      "text/plain": [
       "<Figure size 407.75x360 with 1 Axes>"
      ]
     },
     "metadata": {
      "needs_background": "light"
     },
     "output_type": "display_data"
    }
   ],
   "source": [
    "sns.relplot(data = df_train,x = 'amt', y = 'unix_time' , hue = 'is_fraud')"
   ]
  },
  {
   "cell_type": "code",
   "execution_count": 24,
   "id": "51eaa447",
   "metadata": {
    "execution": {
     "iopub.execute_input": "2022-06-18T19:33:44.447006Z",
     "iopub.status.busy": "2022-06-18T19:33:44.446791Z",
     "iopub.status.idle": "2022-06-18T19:33:44.495099Z",
     "shell.execute_reply": "2022-06-18T19:33:44.494405Z"
    },
    "papermill": {
     "duration": 0.124032,
     "end_time": "2022-06-18T19:33:44.497076",
     "exception": false,
     "start_time": "2022-06-18T19:33:44.373044",
     "status": "completed"
    },
    "tags": []
   },
   "outputs": [],
   "source": [
    "## Get the Fraud and the normal  transaction numbers for test and train dataset \n",
    "\n",
    "fraud_train = df_train[df_train['is_fraud']==1]\n",
    "normal_train = df_train[df_train['is_fraud']==0]\n",
    "fraud_test = df_test[df_test['is_fraud']==1]\n",
    "normal_test = df_test[df_test['is_fraud']==0]"
   ]
  },
  {
   "cell_type": "code",
   "execution_count": 25,
   "id": "0d42db15",
   "metadata": {
    "execution": {
     "iopub.execute_input": "2022-06-18T19:33:44.644536Z",
     "iopub.status.busy": "2022-06-18T19:33:44.644037Z",
     "iopub.status.idle": "2022-06-18T19:33:44.651121Z",
     "shell.execute_reply": "2022-06-18T19:33:44.649835Z"
    },
    "papermill": {
     "duration": 0.083709,
     "end_time": "2022-06-18T19:33:44.653344",
     "exception": false,
     "start_time": "2022-06-18T19:33:44.569635",
     "status": "completed"
    },
    "tags": []
   },
   "outputs": [
    {
     "name": "stdout",
     "output_type": "stream",
     "text": [
      "Normal cases in train set : 128963 \n",
      "Fraud cases in train set : 705\n",
      "Normal cases in test set : 27656 \n",
      "Fraud cases in test set : 130\n"
     ]
    }
   ],
   "source": [
    "print(\"Normal cases in train set :\",len(df_train)-len(fraud_train),\"\\nFraud cases in train set :\",len(fraud_train))\n",
    "print(\"Normal cases in test set :\",len(df_test)-len(fraud_test),\"\\nFraud cases in test set :\",len(fraud_test))"
   ]
  },
  {
   "cell_type": "code",
   "execution_count": 26,
   "id": "48f6f76e",
   "metadata": {
    "execution": {
     "iopub.execute_input": "2022-06-18T19:33:44.807174Z",
     "iopub.status.busy": "2022-06-18T19:33:44.806955Z",
     "iopub.status.idle": "2022-06-18T19:33:44.810951Z",
     "shell.execute_reply": "2022-06-18T19:33:44.810299Z"
    },
    "papermill": {
     "duration": 0.081785,
     "end_time": "2022-06-18T19:33:44.813048",
     "exception": false,
     "start_time": "2022-06-18T19:33:44.731263",
     "status": "completed"
    },
    "tags": []
   },
   "outputs": [],
   "source": [
    "# 3. Data transformation and feature engineering\n",
    "# function to drop tbe columns\n",
    "def dropCol(data):\n",
    "    col_to_drop = ['trans_date_trans_time','Unnamed: 0','cc_num','first','last','trans_num']\n",
    "    res = data.drop(col_to_drop,axis = 1)\n",
    "    return res"
   ]
  },
  {
   "cell_type": "code",
   "execution_count": 27,
   "id": "347f3454",
   "metadata": {
    "execution": {
     "iopub.execute_input": "2022-06-18T19:33:44.962010Z",
     "iopub.status.busy": "2022-06-18T19:33:44.961549Z",
     "iopub.status.idle": "2022-06-18T19:33:44.990129Z",
     "shell.execute_reply": "2022-06-18T19:33:44.989446Z"
    },
    "papermill": {
     "duration": 0.104842,
     "end_time": "2022-06-18T19:33:44.992040",
     "exception": false,
     "start_time": "2022-06-18T19:33:44.887198",
     "status": "completed"
    },
    "tags": []
   },
   "outputs": [],
   "source": [
    "# train data set\n",
    "df_train = dropCol(df_train)\n",
    "\n",
    "# test data set\n",
    "df_test = dropCol(df_test)"
   ]
  },
  {
   "cell_type": "code",
   "execution_count": 28,
   "id": "7f10c208",
   "metadata": {
    "execution": {
     "iopub.execute_input": "2022-06-18T19:33:45.141887Z",
     "iopub.status.busy": "2022-06-18T19:33:45.141669Z",
     "iopub.status.idle": "2022-06-18T19:33:45.146508Z",
     "shell.execute_reply": "2022-06-18T19:33:45.145829Z"
    },
    "papermill": {
     "duration": 0.081613,
     "end_time": "2022-06-18T19:33:45.148909",
     "exception": false,
     "start_time": "2022-06-18T19:33:45.067296",
     "status": "completed"
    },
    "tags": []
   },
   "outputs": [
    {
     "name": "stdout",
     "output_type": "stream",
     "text": [
      "Train Data Shape (129668, 17) \n",
      "Test Data Shape (27786, 17)\n"
     ]
    }
   ],
   "source": [
    "print(\"Train Data Shape {0} \\nTest Data Shape {1}\".format(df_train.shape,df_test.shape))"
   ]
  },
  {
   "cell_type": "code",
   "execution_count": 29,
   "id": "937bd3fa",
   "metadata": {
    "execution": {
     "iopub.execute_input": "2022-06-18T19:33:45.298938Z",
     "iopub.status.busy": "2022-06-18T19:33:45.298748Z",
     "iopub.status.idle": "2022-06-18T19:33:45.302391Z",
     "shell.execute_reply": "2022-06-18T19:33:45.301674Z"
    },
    "papermill": {
     "duration": 0.080037,
     "end_time": "2022-06-18T19:33:45.304025",
     "exception": false,
     "start_time": "2022-06-18T19:33:45.223988",
     "status": "completed"
    },
    "tags": []
   },
   "outputs": [],
   "source": [
    "x_cols = [x for x in df_train.columns.tolist() if x not in ['is_fraud']]"
   ]
  },
  {
   "cell_type": "code",
   "execution_count": 30,
   "id": "73295fc3",
   "metadata": {
    "execution": {
     "iopub.execute_input": "2022-06-18T19:33:45.454006Z",
     "iopub.status.busy": "2022-06-18T19:33:45.453804Z",
     "iopub.status.idle": "2022-06-18T19:33:45.479379Z",
     "shell.execute_reply": "2022-06-18T19:33:45.478700Z"
    },
    "papermill": {
     "duration": 0.101886,
     "end_time": "2022-06-18T19:33:45.481148",
     "exception": false,
     "start_time": "2022-06-18T19:33:45.379262",
     "status": "completed"
    },
    "tags": []
   },
   "outputs": [],
   "source": [
    "X_train = df_train[x_cols]\n",
    "Y_train = df_train['is_fraud']\n",
    "X_test = df_test[x_cols]\n",
    "Y_test = df_test['is_fraud']"
   ]
  },
  {
   "cell_type": "code",
   "execution_count": 31,
   "id": "813677fd",
   "metadata": {
    "execution": {
     "iopub.execute_input": "2022-06-18T19:33:45.631644Z",
     "iopub.status.busy": "2022-06-18T19:33:45.631151Z",
     "iopub.status.idle": "2022-06-18T19:33:45.636118Z",
     "shell.execute_reply": "2022-06-18T19:33:45.635448Z"
    },
    "papermill": {
     "duration": 0.083062,
     "end_time": "2022-06-18T19:33:45.638745",
     "exception": false,
     "start_time": "2022-06-18T19:33:45.555683",
     "status": "completed"
    },
    "tags": []
   },
   "outputs": [
    {
     "name": "stdout",
     "output_type": "stream",
     "text": [
      "Training Data Shape: \n",
      "X_Train: (129668, 16)\n",
      "Y_Train: (129668,)\n",
      "\n",
      "Test Data Shape: \n",
      "X_Test: (27786, 16)\n",
      "Y_Test: (27786,)\n"
     ]
    }
   ],
   "source": [
    "print(\"Training Data Shape: \\nX_Train: {0}\\nY_Train: {1}\\n\\nTest Data Shape: \\nX_Test: {2}\\nY_Test: {3}\".format(X_train.shape, Y_train.shape,X_test.shape, Y_test.shape))"
   ]
  },
  {
   "cell_type": "code",
   "execution_count": 32,
   "id": "04858074",
   "metadata": {
    "execution": {
     "iopub.execute_input": "2022-06-18T19:33:45.790365Z",
     "iopub.status.busy": "2022-06-18T19:33:45.790142Z",
     "iopub.status.idle": "2022-06-18T19:33:45.793762Z",
     "shell.execute_reply": "2022-06-18T19:33:45.793107Z"
    },
    "papermill": {
     "duration": 0.080395,
     "end_time": "2022-06-18T19:33:45.795369",
     "exception": false,
     "start_time": "2022-06-18T19:33:45.714974",
     "status": "completed"
    },
    "tags": []
   },
   "outputs": [],
   "source": [
    "# Converting dob to age\n",
    "def dob_age(year):\n",
    "    return 2022 - int(year[0:4])"
   ]
  },
  {
   "cell_type": "code",
   "execution_count": 33,
   "id": "7af35406",
   "metadata": {
    "execution": {
     "iopub.execute_input": "2022-06-18T19:33:45.953118Z",
     "iopub.status.busy": "2022-06-18T19:33:45.952893Z",
     "iopub.status.idle": "2022-06-18T19:33:46.192016Z",
     "shell.execute_reply": "2022-06-18T19:33:46.191045Z"
    },
    "papermill": {
     "duration": 0.325382,
     "end_time": "2022-06-18T19:33:46.195265",
     "exception": false,
     "start_time": "2022-06-18T19:33:45.869883",
     "status": "completed"
    },
    "tags": []
   },
   "outputs": [],
   "source": [
    "# replacing the dob column with age column in our train data set for test and train\n",
    "X_train['age'] = X_train['dob'].apply(lambda x: dob_age(x))\n",
    "X_train = X_train.drop(['dob'],axis =1)\n",
    "\n",
    "# replacing the dob column with age column in our test data set\n",
    "X_test['age'] = X_test['dob'].apply(lambda x: dob_age(x))\n",
    "X_test = X_test.drop(['dob'],axis =1)"
   ]
  },
  {
   "cell_type": "code",
   "execution_count": 34,
   "id": "37b02a48",
   "metadata": {
    "execution": {
     "iopub.execute_input": "2022-06-18T19:33:46.442243Z",
     "iopub.status.busy": "2022-06-18T19:33:46.441856Z",
     "iopub.status.idle": "2022-06-18T19:33:46.450207Z",
     "shell.execute_reply": "2022-06-18T19:33:46.448507Z"
    },
    "papermill": {
     "duration": 0.133263,
     "end_time": "2022-06-18T19:33:46.452698",
     "exception": false,
     "start_time": "2022-06-18T19:33:46.319435",
     "status": "completed"
    },
    "tags": []
   },
   "outputs": [
    {
     "name": "stdout",
     "output_type": "stream",
     "text": [
      "X_Train:(129668, 16) \n",
      "X_Test:(27786, 16)\n"
     ]
    }
   ],
   "source": [
    "print(\"X_Train:{0} \\nX_Test:{1}\".format(X_train.shape,X_test.shape))"
   ]
  },
  {
   "cell_type": "code",
   "execution_count": 35,
   "id": "4b653cd8",
   "metadata": {
    "execution": {
     "iopub.execute_input": "2022-06-18T19:33:46.605729Z",
     "iopub.status.busy": "2022-06-18T19:33:46.605518Z",
     "iopub.status.idle": "2022-06-18T19:33:46.633267Z",
     "shell.execute_reply": "2022-06-18T19:33:46.632520Z"
    },
    "papermill": {
     "duration": 0.105977,
     "end_time": "2022-06-18T19:33:46.635099",
     "exception": false,
     "start_time": "2022-06-18T19:33:46.529122",
     "status": "completed"
    },
    "tags": []
   },
   "outputs": [
    {
     "data": {
      "text/html": [
       "<div>\n",
       "<style scoped>\n",
       "    .dataframe tbody tr th:only-of-type {\n",
       "        vertical-align: middle;\n",
       "    }\n",
       "\n",
       "    .dataframe tbody tr th {\n",
       "        vertical-align: top;\n",
       "    }\n",
       "\n",
       "    .dataframe thead th {\n",
       "        text-align: right;\n",
       "    }\n",
       "</style>\n",
       "<table border=\"1\" class=\"dataframe\">\n",
       "  <thead>\n",
       "    <tr style=\"text-align: right;\">\n",
       "      <th></th>\n",
       "      <th>merchant</th>\n",
       "      <th>category</th>\n",
       "      <th>amt</th>\n",
       "      <th>gender</th>\n",
       "      <th>street</th>\n",
       "      <th>city</th>\n",
       "      <th>state</th>\n",
       "      <th>zip</th>\n",
       "      <th>lat</th>\n",
       "      <th>long</th>\n",
       "      <th>city_pop</th>\n",
       "      <th>job</th>\n",
       "      <th>unix_time</th>\n",
       "      <th>merch_lat</th>\n",
       "      <th>merch_long</th>\n",
       "      <th>age</th>\n",
       "    </tr>\n",
       "  </thead>\n",
       "  <tbody>\n",
       "    <tr>\n",
       "      <th>94102</th>\n",
       "      <td>fraud_Funk Group</td>\n",
       "      <td>grocery_net</td>\n",
       "      <td>20.00</td>\n",
       "      <td>F</td>\n",
       "      <td>31701 Tucker Square Suite 893</td>\n",
       "      <td>Wilton</td>\n",
       "      <td>ND</td>\n",
       "      <td>58579</td>\n",
       "      <td>47.1709</td>\n",
       "      <td>-100.7944</td>\n",
       "      <td>1190</td>\n",
       "      <td>Designer, ceramics/pottery</td>\n",
       "      <td>1330158280</td>\n",
       "      <td>46.398331</td>\n",
       "      <td>-99.813959</td>\n",
       "      <td>74</td>\n",
       "    </tr>\n",
       "    <tr>\n",
       "      <th>198791</th>\n",
       "      <td>fraud_Prosacco, Kreiger and Kovacek</td>\n",
       "      <td>home</td>\n",
       "      <td>284.88</td>\n",
       "      <td>F</td>\n",
       "      <td>79209 Gary Dale</td>\n",
       "      <td>Colton</td>\n",
       "      <td>WA</td>\n",
       "      <td>99113</td>\n",
       "      <td>46.5901</td>\n",
       "      <td>-117.1692</td>\n",
       "      <td>761</td>\n",
       "      <td>Chief Marketing Officer</td>\n",
       "      <td>1334260215</td>\n",
       "      <td>45.687331</td>\n",
       "      <td>-117.488135</td>\n",
       "      <td>79</td>\n",
       "    </tr>\n",
       "    <tr>\n",
       "      <th>1238587</th>\n",
       "      <td>fraud_Langworth, Boehm and Gulgowski</td>\n",
       "      <td>shopping_net</td>\n",
       "      <td>5.07</td>\n",
       "      <td>F</td>\n",
       "      <td>034 Kimberly Mountains</td>\n",
       "      <td>Brandon</td>\n",
       "      <td>FL</td>\n",
       "      <td>33510</td>\n",
       "      <td>27.9551</td>\n",
       "      <td>-82.2966</td>\n",
       "      <td>79613</td>\n",
       "      <td>Environmental consultant</td>\n",
       "      <td>1370037053</td>\n",
       "      <td>27.254081</td>\n",
       "      <td>-81.974799</td>\n",
       "      <td>44</td>\n",
       "    </tr>\n",
       "    <tr>\n",
       "      <th>619078</th>\n",
       "      <td>fraud_Conroy-Emard</td>\n",
       "      <td>food_dining</td>\n",
       "      <td>45.38</td>\n",
       "      <td>F</td>\n",
       "      <td>9345 Spencer Junctions Suite 183</td>\n",
       "      <td>Alpharetta</td>\n",
       "      <td>GA</td>\n",
       "      <td>30009</td>\n",
       "      <td>34.0770</td>\n",
       "      <td>-84.3033</td>\n",
       "      <td>165556</td>\n",
       "      <td>Prison officer</td>\n",
       "      <td>1348160812</td>\n",
       "      <td>34.551957</td>\n",
       "      <td>-83.374265</td>\n",
       "      <td>25</td>\n",
       "    </tr>\n",
       "    <tr>\n",
       "      <th>573850</th>\n",
       "      <td>fraud_Adams-Barrows</td>\n",
       "      <td>health_fitness</td>\n",
       "      <td>27.52</td>\n",
       "      <td>M</td>\n",
       "      <td>09419 Lewis Rapids</td>\n",
       "      <td>Bay City</td>\n",
       "      <td>MI</td>\n",
       "      <td>48706</td>\n",
       "      <td>43.6088</td>\n",
       "      <td>-83.9530</td>\n",
       "      <td>67858</td>\n",
       "      <td>Water quality scientist</td>\n",
       "      <td>1346455370</td>\n",
       "      <td>43.032957</td>\n",
       "      <td>-83.521294</td>\n",
       "      <td>27</td>\n",
       "    </tr>\n",
       "    <tr>\n",
       "      <th>...</th>\n",
       "      <td>...</td>\n",
       "      <td>...</td>\n",
       "      <td>...</td>\n",
       "      <td>...</td>\n",
       "      <td>...</td>\n",
       "      <td>...</td>\n",
       "      <td>...</td>\n",
       "      <td>...</td>\n",
       "      <td>...</td>\n",
       "      <td>...</td>\n",
       "      <td>...</td>\n",
       "      <td>...</td>\n",
       "      <td>...</td>\n",
       "      <td>...</td>\n",
       "      <td>...</td>\n",
       "      <td>...</td>\n",
       "    </tr>\n",
       "    <tr>\n",
       "      <th>944454</th>\n",
       "      <td>fraud_Reichert-Weissnat</td>\n",
       "      <td>travel</td>\n",
       "      <td>5.83</td>\n",
       "      <td>F</td>\n",
       "      <td>6911 Nicholas Keys Apt. 237</td>\n",
       "      <td>Armagh</td>\n",
       "      <td>PA</td>\n",
       "      <td>15920</td>\n",
       "      <td>40.4603</td>\n",
       "      <td>-79.0097</td>\n",
       "      <td>922</td>\n",
       "      <td>Early years teacher</td>\n",
       "      <td>1358007774</td>\n",
       "      <td>40.522369</td>\n",
       "      <td>-79.314668</td>\n",
       "      <td>50</td>\n",
       "    </tr>\n",
       "    <tr>\n",
       "      <th>23683</th>\n",
       "      <td>fraud_Baumbach, Strosin and Nicolas</td>\n",
       "      <td>shopping_pos</td>\n",
       "      <td>1.96</td>\n",
       "      <td>F</td>\n",
       "      <td>27479 Reeves Dale</td>\n",
       "      <td>Whaleyville</td>\n",
       "      <td>MD</td>\n",
       "      <td>21872</td>\n",
       "      <td>38.4121</td>\n",
       "      <td>-75.2811</td>\n",
       "      <td>718</td>\n",
       "      <td>Regulatory affairs officer</td>\n",
       "      <td>1326572609</td>\n",
       "      <td>38.534192</td>\n",
       "      <td>-76.161654</td>\n",
       "      <td>37</td>\n",
       "    </tr>\n",
       "    <tr>\n",
       "      <th>296375</th>\n",
       "      <td>fraud_Lubowitz-Walter</td>\n",
       "      <td>kids_pets</td>\n",
       "      <td>26.59</td>\n",
       "      <td>F</td>\n",
       "      <td>72966 Shannon Pass Apt. 391</td>\n",
       "      <td>Bauxite</td>\n",
       "      <td>AR</td>\n",
       "      <td>72011</td>\n",
       "      <td>34.5091</td>\n",
       "      <td>-92.4828</td>\n",
       "      <td>4074</td>\n",
       "      <td>Scientist, audiological</td>\n",
       "      <td>1337963080</td>\n",
       "      <td>35.175647</td>\n",
       "      <td>-91.740062</td>\n",
       "      <td>47</td>\n",
       "    </tr>\n",
       "    <tr>\n",
       "      <th>306312</th>\n",
       "      <td>fraud_Runolfsdottir, Mueller and Hand</td>\n",
       "      <td>entertainment</td>\n",
       "      <td>6.00</td>\n",
       "      <td>M</td>\n",
       "      <td>3283 James Station</td>\n",
       "      <td>Fayetteville</td>\n",
       "      <td>NC</td>\n",
       "      <td>28314</td>\n",
       "      <td>35.0583</td>\n",
       "      <td>-79.0080</td>\n",
       "      <td>238602</td>\n",
       "      <td>Scientist, research (maths)</td>\n",
       "      <td>1338216727</td>\n",
       "      <td>34.360264</td>\n",
       "      <td>-78.128199</td>\n",
       "      <td>29</td>\n",
       "    </tr>\n",
       "    <tr>\n",
       "      <th>1171139</th>\n",
       "      <td>fraud_Boehm, Predovic and Reinger</td>\n",
       "      <td>misc_pos</td>\n",
       "      <td>44.70</td>\n",
       "      <td>M</td>\n",
       "      <td>8415 Vaughn Squares Apt. 788</td>\n",
       "      <td>Acworth</td>\n",
       "      <td>NH</td>\n",
       "      <td>3601</td>\n",
       "      <td>43.1960</td>\n",
       "      <td>-72.3001</td>\n",
       "      <td>477</td>\n",
       "      <td>Naval architect</td>\n",
       "      <td>1367637527</td>\n",
       "      <td>44.156195</td>\n",
       "      <td>-73.285582</td>\n",
       "      <td>34</td>\n",
       "    </tr>\n",
       "  </tbody>\n",
       "</table>\n",
       "<p>129668 rows × 16 columns</p>\n",
       "</div>"
      ],
      "text/plain": [
       "                                      merchant        category     amt gender  \\\n",
       "94102                         fraud_Funk Group     grocery_net   20.00      F   \n",
       "198791     fraud_Prosacco, Kreiger and Kovacek            home  284.88      F   \n",
       "1238587   fraud_Langworth, Boehm and Gulgowski    shopping_net    5.07      F   \n",
       "619078                      fraud_Conroy-Emard     food_dining   45.38      F   \n",
       "573850                     fraud_Adams-Barrows  health_fitness   27.52      M   \n",
       "...                                        ...             ...     ...    ...   \n",
       "944454                 fraud_Reichert-Weissnat          travel    5.83      F   \n",
       "23683      fraud_Baumbach, Strosin and Nicolas    shopping_pos    1.96      F   \n",
       "296375                   fraud_Lubowitz-Walter       kids_pets   26.59      F   \n",
       "306312   fraud_Runolfsdottir, Mueller and Hand   entertainment    6.00      M   \n",
       "1171139      fraud_Boehm, Predovic and Reinger        misc_pos   44.70      M   \n",
       "\n",
       "                                   street          city state    zip      lat  \\\n",
       "94102       31701 Tucker Square Suite 893        Wilton    ND  58579  47.1709   \n",
       "198791                    79209 Gary Dale        Colton    WA  99113  46.5901   \n",
       "1238587            034 Kimberly Mountains       Brandon    FL  33510  27.9551   \n",
       "619078   9345 Spencer Junctions Suite 183    Alpharetta    GA  30009  34.0770   \n",
       "573850                 09419 Lewis Rapids      Bay City    MI  48706  43.6088   \n",
       "...                                   ...           ...   ...    ...      ...   \n",
       "944454        6911 Nicholas Keys Apt. 237        Armagh    PA  15920  40.4603   \n",
       "23683                   27479 Reeves Dale   Whaleyville    MD  21872  38.4121   \n",
       "296375        72966 Shannon Pass Apt. 391       Bauxite    AR  72011  34.5091   \n",
       "306312                 3283 James Station  Fayetteville    NC  28314  35.0583   \n",
       "1171139      8415 Vaughn Squares Apt. 788       Acworth    NH   3601  43.1960   \n",
       "\n",
       "             long  city_pop                          job   unix_time  \\\n",
       "94102   -100.7944      1190   Designer, ceramics/pottery  1330158280   \n",
       "198791  -117.1692       761      Chief Marketing Officer  1334260215   \n",
       "1238587  -82.2966     79613     Environmental consultant  1370037053   \n",
       "619078   -84.3033    165556               Prison officer  1348160812   \n",
       "573850   -83.9530     67858      Water quality scientist  1346455370   \n",
       "...           ...       ...                          ...         ...   \n",
       "944454   -79.0097       922          Early years teacher  1358007774   \n",
       "23683    -75.2811       718   Regulatory affairs officer  1326572609   \n",
       "296375   -92.4828      4074      Scientist, audiological  1337963080   \n",
       "306312   -79.0080    238602  Scientist, research (maths)  1338216727   \n",
       "1171139  -72.3001       477              Naval architect  1367637527   \n",
       "\n",
       "         merch_lat  merch_long  age  \n",
       "94102    46.398331  -99.813959   74  \n",
       "198791   45.687331 -117.488135   79  \n",
       "1238587  27.254081  -81.974799   44  \n",
       "619078   34.551957  -83.374265   25  \n",
       "573850   43.032957  -83.521294   27  \n",
       "...            ...         ...  ...  \n",
       "944454   40.522369  -79.314668   50  \n",
       "23683    38.534192  -76.161654   37  \n",
       "296375   35.175647  -91.740062   47  \n",
       "306312   34.360264  -78.128199   29  \n",
       "1171139  44.156195  -73.285582   34  \n",
       "\n",
       "[129668 rows x 16 columns]"
      ]
     },
     "execution_count": 35,
     "metadata": {},
     "output_type": "execute_result"
    }
   ],
   "source": [
    "X_train "
   ]
  },
  {
   "cell_type": "code",
   "execution_count": 89,
   "id": "2b646bba",
   "metadata": {},
   "outputs": [
    {
     "data": {
      "text/plain": [
       "Index(['merchant', 'category', 'amt', 'gender', 'street', 'city', 'state',\n",
       "       'zip', 'lat', 'long', 'city_pop', 'job', 'unix_time', 'merch_lat',\n",
       "       'merch_long', 'age'],\n",
       "      dtype='object')"
      ]
     },
     "execution_count": 89,
     "metadata": {},
     "output_type": "execute_result"
    }
   ],
   "source": [
    "X_train.columns"
   ]
  },
  {
   "cell_type": "code",
   "execution_count": 36,
   "id": "6c1807d5",
   "metadata": {
    "execution": {
     "iopub.execute_input": "2022-06-18T19:33:46.794535Z",
     "iopub.status.busy": "2022-06-18T19:33:46.794326Z",
     "iopub.status.idle": "2022-06-18T19:33:46.834652Z",
     "shell.execute_reply": "2022-06-18T19:33:46.833744Z"
    },
    "papermill": {
     "duration": 0.119379,
     "end_time": "2022-06-18T19:33:46.836821",
     "exception": false,
     "start_time": "2022-06-18T19:33:46.717442",
     "status": "completed"
    },
    "tags": []
   },
   "outputs": [
    {
     "data": {
      "text/plain": [
       "(157454, 16)"
      ]
     },
     "execution_count": 36,
     "metadata": {},
     "output_type": "execute_result"
    }
   ],
   "source": [
    "#  Converting the categorical features to numerical by one- hot - encoding\n",
    "final_df = pd.concat([X_train,X_test],axis=0)\n",
    "final_df.shape"
   ]
  },
  {
   "cell_type": "code",
   "execution_count": 37,
   "id": "fff8d48f",
   "metadata": {
    "execution": {
     "iopub.execute_input": "2022-06-18T19:33:47.035144Z",
     "iopub.status.busy": "2022-06-18T19:33:47.034772Z",
     "iopub.status.idle": "2022-06-18T19:33:47.050003Z",
     "shell.execute_reply": "2022-06-18T19:33:47.048812Z"
    },
    "papermill": {
     "duration": 0.130695,
     "end_time": "2022-06-18T19:33:47.053354",
     "exception": false,
     "start_time": "2022-06-18T19:33:46.922659",
     "status": "completed"
    },
    "tags": []
   },
   "outputs": [
    {
     "data": {
      "text/plain": [
       "['merchant', 'category', 'gender', 'street', 'city', 'state', 'job']"
      ]
     },
     "execution_count": 37,
     "metadata": {},
     "output_type": "execute_result"
    }
   ],
   "source": [
    "# creating the list of categorical variables\n",
    "categorical_features =[feature for feature in X_train.columns if final_df[feature].dtypes == 'O']\n",
    "categorical_features"
   ]
  },
  {
   "cell_type": "code",
   "execution_count": 38,
   "id": "156e5065",
   "metadata": {
    "execution": {
     "iopub.execute_input": "2022-06-18T19:33:47.309540Z",
     "iopub.status.busy": "2022-06-18T19:33:47.309226Z",
     "iopub.status.idle": "2022-06-18T19:33:47.318619Z",
     "shell.execute_reply": "2022-06-18T19:33:47.317776Z"
    },
    "papermill": {
     "duration": 0.139097,
     "end_time": "2022-06-18T19:33:47.321387",
     "exception": false,
     "start_time": "2022-06-18T19:33:47.182290",
     "status": "completed"
    },
    "tags": []
   },
   "outputs": [
    {
     "data": {
      "text/plain": [
       "['merchant', 'category', 'gender', 'street', 'city', 'state', 'job']"
      ]
     },
     "execution_count": 38,
     "metadata": {},
     "output_type": "execute_result"
    }
   ],
   "source": [
    "# creating the list of categorical variables\n",
    "categorical_features =[feature for feature in X_train.columns if final_df[feature].dtypes == 'O']\n",
    "categorical_features"
   ]
  },
  {
   "cell_type": "code",
   "execution_count": 39,
   "id": "8e4b86ce",
   "metadata": {
    "execution": {
     "iopub.execute_input": "2022-06-18T19:33:47.571566Z",
     "iopub.status.busy": "2022-06-18T19:33:47.571343Z",
     "iopub.status.idle": "2022-06-18T19:33:47.578269Z",
     "shell.execute_reply": "2022-06-18T19:33:47.577635Z"
    },
    "papermill": {
     "duration": 0.130976,
     "end_time": "2022-06-18T19:33:47.579969",
     "exception": false,
     "start_time": "2022-06-18T19:33:47.448993",
     "status": "completed"
    },
    "tags": []
   },
   "outputs": [],
   "source": [
    "# function to convert categorical variables to one hot encoding\n",
    "def category_onehot_multcols(data,multcolumns):\n",
    "    df_final = data\n",
    "    i=0\n",
    "    for fields in multcolumns:\n",
    "        print(fields)\n",
    "        df1=pd.get_dummies(final_df[fields],drop_first=True)\n",
    "        final_df.drop([fields],axis=1,inplace=True)\n",
    "        if i==0:\n",
    "            df_final=df1.copy()\n",
    "        else:           \n",
    "            df_final=pd.concat([df_final,df1],axis=1)\n",
    "        i=i+1             \n",
    "    df_final=pd.concat([final_df,df_final],axis=1)\n",
    "    return df_final"
   ]
  },
  {
   "cell_type": "code",
   "execution_count": 40,
   "id": "7d99d7ee",
   "metadata": {
    "execution": {
     "iopub.execute_input": "2022-06-18T19:33:47.735809Z",
     "iopub.status.busy": "2022-06-18T19:33:47.735251Z",
     "iopub.status.idle": "2022-06-18T19:33:51.827327Z",
     "shell.execute_reply": "2022-06-18T19:33:51.826422Z"
    },
    "papermill": {
     "duration": 4.173594,
     "end_time": "2022-06-18T19:33:51.829783",
     "exception": false,
     "start_time": "2022-06-18T19:33:47.656189",
     "status": "completed"
    },
    "tags": []
   },
   "outputs": [
    {
     "name": "stdout",
     "output_type": "stream",
     "text": [
      "merchant\n",
      "category\n",
      "gender\n",
      "street\n",
      "city\n",
      "state\n",
      "job\n"
     ]
    }
   ],
   "source": [
    "# applying the one hot encoding\n",
    "final_df = category_onehot_multcols(final_df, categorical_features)"
   ]
  },
  {
   "cell_type": "code",
   "execution_count": 41,
   "id": "fe6a6de5",
   "metadata": {
    "execution": {
     "iopub.execute_input": "2022-06-18T19:33:51.998296Z",
     "iopub.status.busy": "2022-06-18T19:33:51.998057Z",
     "iopub.status.idle": "2022-06-18T19:33:52.017189Z",
     "shell.execute_reply": "2022-06-18T19:33:52.016307Z"
    },
    "papermill": {
     "duration": 0.100652,
     "end_time": "2022-06-18T19:33:52.019042",
     "exception": false,
     "start_time": "2022-06-18T19:33:51.918390",
     "status": "completed"
    },
    "tags": []
   },
   "outputs": [
    {
     "data": {
      "text/html": [
       "<div>\n",
       "<style scoped>\n",
       "    .dataframe tbody tr th:only-of-type {\n",
       "        vertical-align: middle;\n",
       "    }\n",
       "\n",
       "    .dataframe tbody tr th {\n",
       "        vertical-align: top;\n",
       "    }\n",
       "\n",
       "    .dataframe thead th {\n",
       "        text-align: right;\n",
       "    }\n",
       "</style>\n",
       "<table border=\"1\" class=\"dataframe\">\n",
       "  <thead>\n",
       "    <tr style=\"text-align: right;\">\n",
       "      <th></th>\n",
       "      <th>amt</th>\n",
       "      <th>zip</th>\n",
       "      <th>lat</th>\n",
       "      <th>long</th>\n",
       "      <th>city_pop</th>\n",
       "      <th>unix_time</th>\n",
       "      <th>merch_lat</th>\n",
       "      <th>merch_long</th>\n",
       "      <th>age</th>\n",
       "      <th>fraud_Abbott-Steuber</th>\n",
       "      <th>...</th>\n",
       "      <th>Video editor</th>\n",
       "      <th>Visual merchandiser</th>\n",
       "      <th>Volunteer coordinator</th>\n",
       "      <th>Warden/ranger</th>\n",
       "      <th>Waste management officer</th>\n",
       "      <th>Water engineer</th>\n",
       "      <th>Water quality scientist</th>\n",
       "      <th>Web designer</th>\n",
       "      <th>Wellsite geologist</th>\n",
       "      <th>Writer</th>\n",
       "    </tr>\n",
       "  </thead>\n",
       "  <tbody>\n",
       "    <tr>\n",
       "      <th>94102</th>\n",
       "      <td>20.00</td>\n",
       "      <td>58579</td>\n",
       "      <td>47.1709</td>\n",
       "      <td>-100.7944</td>\n",
       "      <td>1190</td>\n",
       "      <td>1330158280</td>\n",
       "      <td>46.398331</td>\n",
       "      <td>-99.813959</td>\n",
       "      <td>74</td>\n",
       "      <td>0</td>\n",
       "      <td>...</td>\n",
       "      <td>0</td>\n",
       "      <td>0</td>\n",
       "      <td>0</td>\n",
       "      <td>0</td>\n",
       "      <td>0</td>\n",
       "      <td>0</td>\n",
       "      <td>0</td>\n",
       "      <td>0</td>\n",
       "      <td>0</td>\n",
       "      <td>0</td>\n",
       "    </tr>\n",
       "    <tr>\n",
       "      <th>198791</th>\n",
       "      <td>284.88</td>\n",
       "      <td>99113</td>\n",
       "      <td>46.5901</td>\n",
       "      <td>-117.1692</td>\n",
       "      <td>761</td>\n",
       "      <td>1334260215</td>\n",
       "      <td>45.687331</td>\n",
       "      <td>-117.488135</td>\n",
       "      <td>79</td>\n",
       "      <td>0</td>\n",
       "      <td>...</td>\n",
       "      <td>0</td>\n",
       "      <td>0</td>\n",
       "      <td>0</td>\n",
       "      <td>0</td>\n",
       "      <td>0</td>\n",
       "      <td>0</td>\n",
       "      <td>0</td>\n",
       "      <td>0</td>\n",
       "      <td>0</td>\n",
       "      <td>0</td>\n",
       "    </tr>\n",
       "    <tr>\n",
       "      <th>1238587</th>\n",
       "      <td>5.07</td>\n",
       "      <td>33510</td>\n",
       "      <td>27.9551</td>\n",
       "      <td>-82.2966</td>\n",
       "      <td>79613</td>\n",
       "      <td>1370037053</td>\n",
       "      <td>27.254081</td>\n",
       "      <td>-81.974799</td>\n",
       "      <td>44</td>\n",
       "      <td>0</td>\n",
       "      <td>...</td>\n",
       "      <td>0</td>\n",
       "      <td>0</td>\n",
       "      <td>0</td>\n",
       "      <td>0</td>\n",
       "      <td>0</td>\n",
       "      <td>0</td>\n",
       "      <td>0</td>\n",
       "      <td>0</td>\n",
       "      <td>0</td>\n",
       "      <td>0</td>\n",
       "    </tr>\n",
       "    <tr>\n",
       "      <th>619078</th>\n",
       "      <td>45.38</td>\n",
       "      <td>30009</td>\n",
       "      <td>34.0770</td>\n",
       "      <td>-84.3033</td>\n",
       "      <td>165556</td>\n",
       "      <td>1348160812</td>\n",
       "      <td>34.551957</td>\n",
       "      <td>-83.374265</td>\n",
       "      <td>25</td>\n",
       "      <td>0</td>\n",
       "      <td>...</td>\n",
       "      <td>0</td>\n",
       "      <td>0</td>\n",
       "      <td>0</td>\n",
       "      <td>0</td>\n",
       "      <td>0</td>\n",
       "      <td>0</td>\n",
       "      <td>0</td>\n",
       "      <td>0</td>\n",
       "      <td>0</td>\n",
       "      <td>0</td>\n",
       "    </tr>\n",
       "    <tr>\n",
       "      <th>573850</th>\n",
       "      <td>27.52</td>\n",
       "      <td>48706</td>\n",
       "      <td>43.6088</td>\n",
       "      <td>-83.9530</td>\n",
       "      <td>67858</td>\n",
       "      <td>1346455370</td>\n",
       "      <td>43.032957</td>\n",
       "      <td>-83.521294</td>\n",
       "      <td>27</td>\n",
       "      <td>0</td>\n",
       "      <td>...</td>\n",
       "      <td>0</td>\n",
       "      <td>0</td>\n",
       "      <td>0</td>\n",
       "      <td>0</td>\n",
       "      <td>0</td>\n",
       "      <td>0</td>\n",
       "      <td>1</td>\n",
       "      <td>0</td>\n",
       "      <td>0</td>\n",
       "      <td>0</td>\n",
       "    </tr>\n",
       "  </tbody>\n",
       "</table>\n",
       "<p>5 rows × 3077 columns</p>\n",
       "</div>"
      ],
      "text/plain": [
       "            amt    zip      lat      long  city_pop   unix_time  merch_lat  \\\n",
       "94102     20.00  58579  47.1709 -100.7944      1190  1330158280  46.398331   \n",
       "198791   284.88  99113  46.5901 -117.1692       761  1334260215  45.687331   \n",
       "1238587    5.07  33510  27.9551  -82.2966     79613  1370037053  27.254081   \n",
       "619078    45.38  30009  34.0770  -84.3033    165556  1348160812  34.551957   \n",
       "573850    27.52  48706  43.6088  -83.9530     67858  1346455370  43.032957   \n",
       "\n",
       "         merch_long  age  fraud_Abbott-Steuber  ...  Video editor  \\\n",
       "94102    -99.813959   74                     0  ...             0   \n",
       "198791  -117.488135   79                     0  ...             0   \n",
       "1238587  -81.974799   44                     0  ...             0   \n",
       "619078   -83.374265   25                     0  ...             0   \n",
       "573850   -83.521294   27                     0  ...             0   \n",
       "\n",
       "         Visual merchandiser  Volunteer coordinator  Warden/ranger  \\\n",
       "94102                      0                      0              0   \n",
       "198791                     0                      0              0   \n",
       "1238587                    0                      0              0   \n",
       "619078                     0                      0              0   \n",
       "573850                     0                      0              0   \n",
       "\n",
       "         Waste management officer  Water engineer  Water quality scientist  \\\n",
       "94102                           0               0                        0   \n",
       "198791                          0               0                        0   \n",
       "1238587                         0               0                        0   \n",
       "619078                          0               0                        0   \n",
       "573850                          0               0                        1   \n",
       "\n",
       "         Web designer  Wellsite geologist  Writer  \n",
       "94102               0                   0       0  \n",
       "198791              0                   0       0  \n",
       "1238587             0                   0       0  \n",
       "619078              0                   0       0  \n",
       "573850              0                   0       0  \n",
       "\n",
       "[5 rows x 3077 columns]"
      ]
     },
     "execution_count": 41,
     "metadata": {},
     "output_type": "execute_result"
    }
   ],
   "source": [
    "final_df.head()"
   ]
  },
  {
   "cell_type": "code",
   "execution_count": 42,
   "id": "4982de09",
   "metadata": {
    "execution": {
     "iopub.execute_input": "2022-06-18T19:33:52.181552Z",
     "iopub.status.busy": "2022-06-18T19:33:52.181355Z",
     "iopub.status.idle": "2022-06-18T19:33:53.257776Z",
     "shell.execute_reply": "2022-06-18T19:33:53.257054Z"
    },
    "papermill": {
     "duration": 1.159701,
     "end_time": "2022-06-18T19:33:53.260081",
     "exception": false,
     "start_time": "2022-06-18T19:33:52.100380",
     "status": "completed"
    },
    "tags": []
   },
   "outputs": [
    {
     "data": {
      "text/plain": [
       "(157454, 3077)"
      ]
     },
     "execution_count": 42,
     "metadata": {},
     "output_type": "execute_result"
    }
   ],
   "source": [
    "# removing duplicated columns\n",
    "final_df =final_df.loc[:,~final_df.columns.duplicated()]\n",
    "final_df.shape"
   ]
  },
  {
   "cell_type": "code",
   "execution_count": 91,
   "id": "0d214aaa",
   "metadata": {},
   "outputs": [
    {
     "data": {
      "text/plain": [
       "3077"
      ]
     },
     "execution_count": 91,
     "metadata": {},
     "output_type": "execute_result"
    }
   ],
   "source": [
    "len(final_df.columns)"
   ]
  },
  {
   "cell_type": "code",
   "execution_count": 43,
   "id": "5ac296df",
   "metadata": {
    "execution": {
     "iopub.execute_input": "2022-06-18T19:33:53.420830Z",
     "iopub.status.busy": "2022-06-18T19:33:53.420599Z",
     "iopub.status.idle": "2022-06-18T19:33:53.425931Z",
     "shell.execute_reply": "2022-06-18T19:33:53.425150Z"
    },
    "papermill": {
     "duration": 0.088967,
     "end_time": "2022-06-18T19:33:53.429178",
     "exception": false,
     "start_time": "2022-06-18T19:33:53.340211",
     "status": "completed"
    },
    "tags": []
   },
   "outputs": [
    {
     "name": "stdout",
     "output_type": "stream",
     "text": [
      "(129668, 3077) (27786, 3077)\n"
     ]
    }
   ],
   "source": [
    "# separating the test and training data\n",
    "df_Train=final_df.iloc[:129668,:]\n",
    "df_Test=final_df.iloc[129668:,:]\n",
    "print(df_Train.shape,df_Test.shape)"
   ]
  },
  {
   "cell_type": "code",
   "execution_count": 44,
   "id": "163cf612",
   "metadata": {
    "execution": {
     "iopub.execute_input": "2022-06-18T19:33:53.589579Z",
     "iopub.status.busy": "2022-06-18T19:33:53.589376Z",
     "iopub.status.idle": "2022-06-18T19:33:53.597962Z",
     "shell.execute_reply": "2022-06-18T19:33:53.597194Z"
    },
    "papermill": {
     "duration": 0.091258,
     "end_time": "2022-06-18T19:33:53.600142",
     "exception": false,
     "start_time": "2022-06-18T19:33:53.508884",
     "status": "completed"
    },
    "tags": []
   },
   "outputs": [
    {
     "name": "stdout",
     "output_type": "stream",
     "text": [
      "0    128963\n",
      "1       705\n",
      "Name: is_fraud, dtype: int64 \n",
      " 0    27656\n",
      "1      130\n",
      "Name: is_fraud, dtype: int64\n"
     ]
    }
   ],
   "source": [
    "print(Y_train.value_counts(),\"\\n\",Y_test.value_counts())"
   ]
  },
  {
   "cell_type": "code",
   "execution_count": 45,
   "id": "a4dfb81a",
   "metadata": {
    "execution": {
     "iopub.execute_input": "2022-06-18T19:33:53.759217Z",
     "iopub.status.busy": "2022-06-18T19:33:53.758997Z",
     "iopub.status.idle": "2022-06-18T19:33:53.764493Z",
     "shell.execute_reply": "2022-06-18T19:33:53.763605Z"
    },
    "papermill": {
     "duration": 0.087843,
     "end_time": "2022-06-18T19:33:53.767213",
     "exception": false,
     "start_time": "2022-06-18T19:33:53.679370",
     "status": "completed"
    },
    "tags": []
   },
   "outputs": [
    {
     "name": "stdout",
     "output_type": "stream",
     "text": [
      "(129668, 3077) (27786, 3077) (129668,) (27786,)\n"
     ]
    }
   ],
   "source": [
    "# files ready for testing on models\n",
    "print(df_Train.shape, df_Test.shape, Y_train.shape, Y_test.shape)"
   ]
  },
  {
   "cell_type": "code",
   "execution_count": 46,
   "id": "ae16d803",
   "metadata": {
    "execution": {
     "iopub.execute_input": "2022-06-18T19:33:53.928925Z",
     "iopub.status.busy": "2022-06-18T19:33:53.928711Z",
     "iopub.status.idle": "2022-06-18T19:33:53.931897Z",
     "shell.execute_reply": "2022-06-18T19:33:53.931225Z"
    },
    "papermill": {
     "duration": 0.085214,
     "end_time": "2022-06-18T19:33:53.933595",
     "exception": false,
     "start_time": "2022-06-18T19:33:53.848381",
     "status": "completed"
    },
    "tags": []
   },
   "outputs": [],
   "source": [
    "# 4 Handling the Imbalance in data\n",
    "#4.1 Random Under-Sampling\n",
    "#4.2 Ensemble (IRUS)"
   ]
  },
  {
   "cell_type": "code",
   "execution_count": 47,
   "id": "ae6e80c7",
   "metadata": {
    "execution": {
     "iopub.execute_input": "2022-06-18T19:33:54.096475Z",
     "iopub.status.busy": "2022-06-18T19:33:54.096272Z",
     "iopub.status.idle": "2022-06-18T19:34:10.751472Z",
     "shell.execute_reply": "2022-06-18T19:34:10.750506Z"
    },
    "papermill": {
     "duration": 16.73965,
     "end_time": "2022-06-18T19:34:10.754540",
     "exception": false,
     "start_time": "2022-06-18T19:33:54.014890",
     "status": "completed"
    },
    "tags": []
   },
   "outputs": [],
   "source": [
    "#Let's evaluate our model \n",
    "def print_eval(y_pred,model):\n",
    "    print(\"Training Accuracy: \",model.score(df_Train, Y_train))\n",
    "    print(\"Testing Accuracy: \", model.score(df_Test, Y_test))\n",
    "    cm = metrics.confusion_matrix(Y_test, y_pred)\n",
    "    print(cm)\n",
    "    print(classification_report(Y_test,y_pred)) # Logistic Regression\n",
    "    \n",
    "LR = LogisticRegression(random_state=137)\n",
    "LR.fit(df_Train,Y_train)\n",
    "y_pred = LR.predict(df_Test)"
   ]
  },
  {
   "cell_type": "code",
   "execution_count": 48,
   "id": "9de68f49",
   "metadata": {
    "execution": {
     "iopub.execute_input": "2022-06-18T19:34:10.980607Z",
     "iopub.status.busy": "2022-06-18T19:34:10.980075Z",
     "iopub.status.idle": "2022-06-18T19:34:12.658600Z",
     "shell.execute_reply": "2022-06-18T19:34:12.657901Z"
    },
    "papermill": {
     "duration": 1.769027,
     "end_time": "2022-06-18T19:34:12.661013",
     "exception": false,
     "start_time": "2022-06-18T19:34:10.891986",
     "status": "completed"
    },
    "tags": []
   },
   "outputs": [
    {
     "name": "stdout",
     "output_type": "stream",
     "text": [
      "Training Accuracy:  0.9945630379122066\n",
      "Testing Accuracy:  0.9953213848700785\n",
      "[[27656     0]\n",
      " [  130     0]]\n",
      "              precision    recall  f1-score   support\n",
      "\n",
      "           0       1.00      1.00      1.00     27656\n",
      "           1       0.00      0.00      0.00       130\n",
      "\n",
      "    accuracy                           1.00     27786\n",
      "   macro avg       0.50      0.50      0.50     27786\n",
      "weighted avg       0.99      1.00      0.99     27786\n",
      "\n"
     ]
    }
   ],
   "source": [
    "# Logistic Regression Classification results without balancing class\n",
    "print_eval(y_pred,LR)"
   ]
  },
  {
   "cell_type": "code",
   "execution_count": 49,
   "id": "e1740735",
   "metadata": {
    "execution": {
     "iopub.execute_input": "2022-06-18T19:34:12.830623Z",
     "iopub.status.busy": "2022-06-18T19:34:12.830382Z",
     "iopub.status.idle": "2022-06-18T19:35:20.127115Z",
     "shell.execute_reply": "2022-06-18T19:35:20.126310Z"
    },
    "papermill": {
     "duration": 67.37922,
     "end_time": "2022-06-18T19:35:20.129346",
     "exception": false,
     "start_time": "2022-06-18T19:34:12.750126",
     "status": "completed"
    },
    "tags": []
   },
   "outputs": [],
   "source": [
    "# decision tree\n",
    "decision_tree = DecisionTreeClassifier(random_state=137)\n",
    "decision_tree.fit(df_Train,Y_train)\n",
    "y_pred = decision_tree.predict(df_Test)"
   ]
  },
  {
   "cell_type": "code",
   "execution_count": 50,
   "id": "7bb7070e",
   "metadata": {
    "execution": {
     "iopub.execute_input": "2022-06-18T19:35:20.291022Z",
     "iopub.status.busy": "2022-06-18T19:35:20.290774Z",
     "iopub.status.idle": "2022-06-18T19:35:22.428742Z",
     "shell.execute_reply": "2022-06-18T19:35:22.427064Z"
    },
    "papermill": {
     "duration": 2.220234,
     "end_time": "2022-06-18T19:35:22.430629",
     "exception": false,
     "start_time": "2022-06-18T19:35:20.210395",
     "status": "completed"
    },
    "tags": []
   },
   "outputs": [
    {
     "name": "stdout",
     "output_type": "stream",
     "text": [
      "Training Accuracy:  1.0\n",
      "Testing Accuracy:  0.9866839415533002\n",
      "[[27333   323]\n",
      " [   47    83]]\n",
      "              precision    recall  f1-score   support\n",
      "\n",
      "           0       1.00      0.99      0.99     27656\n",
      "           1       0.20      0.64      0.31       130\n",
      "\n",
      "    accuracy                           0.99     27786\n",
      "   macro avg       0.60      0.81      0.65     27786\n",
      "weighted avg       0.99      0.99      0.99     27786\n",
      "\n"
     ]
    }
   ],
   "source": [
    "# Decision Tree Classification results without balancong class\n",
    "print_eval(y_pred,decision_tree)"
   ]
  },
  {
   "cell_type": "code",
   "execution_count": 51,
   "id": "ec1bda02",
   "metadata": {
    "execution": {
     "iopub.execute_input": "2022-06-18T19:35:22.593277Z",
     "iopub.status.busy": "2022-06-18T19:35:22.593025Z",
     "iopub.status.idle": "2022-06-18T19:35:22.600084Z",
     "shell.execute_reply": "2022-06-18T19:35:22.599408Z"
    },
    "papermill": {
     "duration": 0.089461,
     "end_time": "2022-06-18T19:35:22.601818",
     "exception": false,
     "start_time": "2022-06-18T19:35:22.512357",
     "status": "completed"
    },
    "tags": []
   },
   "outputs": [],
   "source": [
    "model_list = {}\n",
    "def getComparitiveChart(model_list,model_name,model):\n",
    "    print('\\033[1m', \"Comparitive Chart of all models\")\n",
    "    if model_name not in model_list:\n",
    "        model_list[model_name]= model\n",
    "    \n",
    "    print( \" Model                             Recall class-1 Recall class-0 f1-score class-1 f1-score class-0\")\n",
    "    for i,v in model_list.items():\n",
    "        pred = v.predict(df_Test)\n",
    "        prfs = precision_recall_fscore_support(Y_test,pred , average=None)\n",
    "        #res_recall[i] = round(prfs[1][1],2)\n",
    "        recall_0   = prfs[1][0]\n",
    "        recall_1   = prfs[1][1]\n",
    "        f1_score_0 = prfs[2][0]\n",
    "        f1_score_1 = prfs[2][1]\n",
    "\n",
    "        print(f'{f\"{i}\":<35}' ,\"{:.2f}\".format(recall_1),\"\\t\\t\",\"{:.2f}\".format(recall_0),\n",
    "               \"\\t\\t\",\"{:.2f}\".format(f1_score_1),\"\\t\\t\",\"{:.2f}\".format(f1_score_0) )"
   ]
  },
  {
   "cell_type": "code",
   "execution_count": 52,
   "id": "2c151033",
   "metadata": {
    "execution": {
     "iopub.execute_input": "2022-06-18T19:35:22.761464Z",
     "iopub.status.busy": "2022-06-18T19:35:22.761244Z",
     "iopub.status.idle": "2022-06-18T19:35:23.059512Z",
     "shell.execute_reply": "2022-06-18T19:35:23.058737Z"
    },
    "papermill": {
     "duration": 0.382885,
     "end_time": "2022-06-18T19:35:23.063739",
     "exception": false,
     "start_time": "2022-06-18T19:35:22.680854",
     "status": "completed"
    },
    "tags": []
   },
   "outputs": [
    {
     "name": "stdout",
     "output_type": "stream",
     "text": [
      "\u001b[1m Comparitive Chart of all models\n",
      " Model                             Recall class-1 Recall class-0 f1-score class-1 f1-score class-0\n",
      "Logistic Regression                 0.00 \t\t 1.00 \t\t 0.00 \t\t 1.00\n"
     ]
    }
   ],
   "source": [
    "getComparitiveChart(model_list,'Logistic Regression',LR)"
   ]
  },
  {
   "cell_type": "code",
   "execution_count": 53,
   "id": "01268650",
   "metadata": {
    "execution": {
     "iopub.execute_input": "2022-06-18T19:35:23.280304Z",
     "iopub.status.busy": "2022-06-18T19:35:23.280053Z",
     "iopub.status.idle": "2022-06-18T19:35:23.989693Z",
     "shell.execute_reply": "2022-06-18T19:35:23.988844Z"
    },
    "papermill": {
     "duration": 0.794074,
     "end_time": "2022-06-18T19:35:23.991710",
     "exception": false,
     "start_time": "2022-06-18T19:35:23.197636",
     "status": "completed"
    },
    "tags": []
   },
   "outputs": [
    {
     "name": "stdout",
     "output_type": "stream",
     "text": [
      "\u001b[1m Comparitive Chart of all models\n",
      " Model                             Recall class-1 Recall class-0 f1-score class-1 f1-score class-0\n",
      "Logistic Regression                 0.00 \t\t 1.00 \t\t 0.00 \t\t 1.00\n",
      "Decision Tree                       0.64 \t\t 0.99 \t\t 0.31 \t\t 0.99\n"
     ]
    }
   ],
   "source": [
    "getComparitiveChart(model_list,'Decision Tree',decision_tree)"
   ]
  },
  {
   "cell_type": "code",
   "execution_count": 54,
   "id": "e78a047d",
   "metadata": {
    "execution": {
     "iopub.execute_input": "2022-06-18T19:35:24.158113Z",
     "iopub.status.busy": "2022-06-18T19:35:24.157893Z",
     "iopub.status.idle": "2022-06-18T19:35:24.290490Z",
     "shell.execute_reply": "2022-06-18T19:35:24.289774Z"
    },
    "papermill": {
     "duration": 0.216075,
     "end_time": "2022-06-18T19:35:24.292204",
     "exception": false,
     "start_time": "2022-06-18T19:35:24.076129",
     "status": "completed"
    },
    "tags": []
   },
   "outputs": [
    {
     "name": "stdout",
     "output_type": "stream",
     "text": [
      "(129668,) (129668, 3077)\n"
     ]
    },
    {
     "data": {
      "text/plain": [
       "(129668, 3078)"
      ]
     },
     "execution_count": 54,
     "metadata": {},
     "output_type": "execute_result"
    }
   ],
   "source": [
    "#Metric Analysis True Positives : Correctly classified as Safe Transaction = 27333 (.99) False Negitives : Mis-classified Safe Transaction = 323 (Harmless) False Positives : Mis-classified as Fraud Transactions = 47 (Dangerous ) True Negatives : Correctly classified as Fraud Transactions = 83 (out of 130 -> .64) Accuracy : .99 Here the accuracy is not taken into account as it is misleading. We want to get maximum True Negatives i.e we want to predict the Fraud tranactions with maximum accuracy. This can be done by monitoring the Recall.\n",
    "\n",
    "#So when the data is imbalanced the Recall is class 0 (Safe) : 0.99 class 1 (Fraud): 0.64\n",
    "\n",
    "#We want the recall of class 1 to be close to 1.00 We can also use f1-score as a metric to observ# Random Under-sampling\n",
    "# adding the dependent feature in the train data set\n",
    "print(Y_train.shape,df_Train.shape)\n",
    "df_train = pd.concat([df_Train,Y_train],axis = 1)\n",
    "df_train.shape"
   ]
  },
  {
   "cell_type": "code",
   "execution_count": 55,
   "id": "5b75aac3",
   "metadata": {
    "execution": {
     "iopub.execute_input": "2022-06-18T19:35:24.457641Z",
     "iopub.status.busy": "2022-06-18T19:35:24.457420Z",
     "iopub.status.idle": "2022-06-18T19:35:27.723464Z",
     "shell.execute_reply": "2022-06-18T19:35:27.722595Z"
    },
    "papermill": {
     "duration": 3.350591,
     "end_time": "2022-06-18T19:35:27.725922",
     "exception": false,
     "start_time": "2022-06-18T19:35:24.375331",
     "status": "completed"
    },
    "tags": []
   },
   "outputs": [
    {
     "name": "stdout",
     "output_type": "stream",
     "text": [
      "128963 705\n",
      "(128963, 3078) (705, 3078)\n"
     ]
    }
   ],
   "source": [
    "# Class count\n",
    "count_class_0, count_class_1 = df_train.is_fraud.value_counts()\n",
    "print(count_class_0, count_class_1)# Divide by class\n",
    "df_class_0 = df_train[df_train['is_fraud'] == 0]\n",
    "df_class_1 = df_train[df_train['is_fraud'] == 1]\n",
    "print(df_class_0.shape,df_class_1.shape)"
   ]
  },
  {
   "cell_type": "code",
   "execution_count": 56,
   "id": "77fea34e",
   "metadata": {
    "execution": {
     "iopub.execute_input": "2022-06-18T19:35:27.893212Z",
     "iopub.status.busy": "2022-06-18T19:35:27.892915Z",
     "iopub.status.idle": "2022-06-18T19:35:27.956151Z",
     "shell.execute_reply": "2022-06-18T19:35:27.955474Z"
    },
    "papermill": {
     "duration": 0.150273,
     "end_time": "2022-06-18T19:35:27.958485",
     "exception": false,
     "start_time": "2022-06-18T19:35:27.808212",
     "status": "completed"
    },
    "tags": []
   },
   "outputs": [
    {
     "name": "stdout",
     "output_type": "stream",
     "text": [
      "Random under-sampling:\n",
      "0    705\n",
      "1    705\n",
      "Name: is_fraud, dtype: int64\n"
     ]
    }
   ],
   "source": [
    "# Undersample 0-class and concat the DataFrames of both class\n",
    "df_class_0_under = df_class_0.sample(count_class_1)\n",
    "df_train_under_sample = pd.concat([df_class_0_under, df_class_1], axis=0)\n",
    "\n",
    "print('Random under-sampling:')\n",
    "print(df_train_under_sample.is_fraud.value_counts())"
   ]
  },
  {
   "cell_type": "code",
   "execution_count": 57,
   "id": "de1b5202",
   "metadata": {
    "execution": {
     "iopub.execute_input": "2022-06-18T19:35:28.127484Z",
     "iopub.status.busy": "2022-06-18T19:35:28.127254Z",
     "iopub.status.idle": "2022-06-18T19:35:28.139166Z",
     "shell.execute_reply": "2022-06-18T19:35:28.138510Z"
    },
    "papermill": {
     "duration": 0.096415,
     "end_time": "2022-06-18T19:35:28.140840",
     "exception": false,
     "start_time": "2022-06-18T19:35:28.044425",
     "status": "completed"
    },
    "tags": []
   },
   "outputs": [],
   "source": [
    "# training and predictions : Logistic Regression Under Sampling \n",
    "X = df_train_under_sample.drop('is_fraud',axis='columns')\n",
    "y = df_train_under_sample['is_fraud']"
   ]
  },
  {
   "cell_type": "code",
   "execution_count": 58,
   "id": "cef7c877",
   "metadata": {
    "execution": {
     "iopub.execute_input": "2022-06-18T19:35:28.308548Z",
     "iopub.status.busy": "2022-06-18T19:35:28.308305Z",
     "iopub.status.idle": "2022-06-18T19:35:28.776459Z",
     "shell.execute_reply": "2022-06-18T19:35:28.775596Z"
    },
    "papermill": {
     "duration": 0.555465,
     "end_time": "2022-06-18T19:35:28.779761",
     "exception": false,
     "start_time": "2022-06-18T19:35:28.224296",
     "status": "completed"
    },
    "tags": []
   },
   "outputs": [],
   "source": [
    "model_LR_under_sample = LogisticRegression(random_state=137)\n",
    "model_LR_under_sample.fit(X,y)\n",
    "y_pred = model_LR_under_sample.predict(df_Test)"
   ]
  },
  {
   "cell_type": "code",
   "execution_count": 59,
   "id": "d853416b",
   "metadata": {
    "execution": {
     "iopub.execute_input": "2022-06-18T19:35:29.005321Z",
     "iopub.status.busy": "2022-06-18T19:35:29.005031Z",
     "iopub.status.idle": "2022-06-18T19:35:30.705378Z",
     "shell.execute_reply": "2022-06-18T19:35:30.704662Z"
    },
    "papermill": {
     "duration": 1.789646,
     "end_time": "2022-06-18T19:35:30.710419",
     "exception": false,
     "start_time": "2022-06-18T19:35:28.920773",
     "status": "completed"
    },
    "tags": []
   },
   "outputs": [
    {
     "name": "stdout",
     "output_type": "stream",
     "text": [
      "Training Accuracy:  0.9945630379122066\n",
      "Testing Accuracy:  0.9953213848700785\n",
      "[[27656     0]\n",
      " [  130     0]]\n",
      "              precision    recall  f1-score   support\n",
      "\n",
      "           0       1.00      1.00      1.00     27656\n",
      "           1       0.00      0.00      0.00       130\n",
      "\n",
      "    accuracy                           1.00     27786\n",
      "   macro avg       0.50      0.50      0.50     27786\n",
      "weighted avg       0.99      1.00      0.99     27786\n",
      "\n"
     ]
    }
   ],
   "source": [
    "print_eval(y_pred,model_LR_under_sample)"
   ]
  },
  {
   "cell_type": "code",
   "execution_count": 60,
   "id": "3f83682b",
   "metadata": {
    "execution": {
     "iopub.execute_input": "2022-06-18T19:35:30.885475Z",
     "iopub.status.busy": "2022-06-18T19:35:30.885268Z",
     "iopub.status.idle": "2022-06-18T19:35:31.399787Z",
     "shell.execute_reply": "2022-06-18T19:35:31.399030Z"
    },
    "papermill": {
     "duration": 0.601832,
     "end_time": "2022-06-18T19:35:31.402369",
     "exception": false,
     "start_time": "2022-06-18T19:35:30.800537",
     "status": "completed"
    },
    "tags": []
   },
   "outputs": [],
   "source": [
    "# training and predictions : decision tree Regression Under Sampling\n",
    "decision_tree_model_undersample = DecisionTreeClassifier(random_state=137)\n",
    "decision_tree_model_undersample.fit(X,y)\n",
    "y_pred = decision_tree_model_undersample.predict(df_Test)"
   ]
  },
  {
   "cell_type": "code",
   "execution_count": 61,
   "id": "c1ba5b82",
   "metadata": {
    "execution": {
     "iopub.execute_input": "2022-06-18T19:35:31.571516Z",
     "iopub.status.busy": "2022-06-18T19:35:31.571280Z",
     "iopub.status.idle": "2022-06-18T19:35:33.660347Z",
     "shell.execute_reply": "2022-06-18T19:35:33.658985Z"
    },
    "papermill": {
     "duration": 2.176368,
     "end_time": "2022-06-18T19:35:33.662885",
     "exception": false,
     "start_time": "2022-06-18T19:35:31.486517",
     "status": "completed"
    },
    "tags": []
   },
   "outputs": [
    {
     "name": "stdout",
     "output_type": "stream",
     "text": [
      "Training Accuracy:  0.9255328994046333\n",
      "Testing Accuracy:  0.9273734974447564\n",
      "[[25644  2012]\n",
      " [    6   124]]\n",
      "              precision    recall  f1-score   support\n",
      "\n",
      "           0       1.00      0.93      0.96     27656\n",
      "           1       0.06      0.95      0.11       130\n",
      "\n",
      "    accuracy                           0.93     27786\n",
      "   macro avg       0.53      0.94      0.54     27786\n",
      "weighted avg       1.00      0.93      0.96     27786\n",
      "\n"
     ]
    }
   ],
   "source": [
    "print_eval(y_pred,decision_tree_model_undersample)"
   ]
  },
  {
   "cell_type": "code",
   "execution_count": 62,
   "id": "75b9d8a2",
   "metadata": {
    "execution": {
     "iopub.execute_input": "2022-06-18T19:35:33.839326Z",
     "iopub.status.busy": "2022-06-18T19:35:33.838716Z",
     "iopub.status.idle": "2022-06-18T19:35:34.841368Z",
     "shell.execute_reply": "2022-06-18T19:35:34.840605Z"
    },
    "papermill": {
     "duration": 1.092262,
     "end_time": "2022-06-18T19:35:34.845451",
     "exception": false,
     "start_time": "2022-06-18T19:35:33.753189",
     "status": "completed"
    },
    "tags": []
   },
   "outputs": [
    {
     "name": "stdout",
     "output_type": "stream",
     "text": [
      "\u001b[1m Comparitive Chart of all models\n",
      " Model                             Recall class-1 Recall class-0 f1-score class-1 f1-score class-0\n",
      "Logistic Regression                 0.00 \t\t 1.00 \t\t 0.00 \t\t 1.00\n",
      "Decision Tree                       0.64 \t\t 0.99 \t\t 0.31 \t\t 0.99\n",
      "Logistic Regression Under Sample    0.00 \t\t 1.00 \t\t 0.00 \t\t 1.00\n"
     ]
    }
   ],
   "source": [
    "getComparitiveChart(model_list,'Logistic Regression Under Sample',model_LR_under_sample)"
   ]
  },
  {
   "cell_type": "code",
   "execution_count": 63,
   "id": "3042da47",
   "metadata": {
    "execution": {
     "iopub.execute_input": "2022-06-18T19:35:35.069904Z",
     "iopub.status.busy": "2022-06-18T19:35:35.069253Z",
     "iopub.status.idle": "2022-06-18T19:35:36.499356Z",
     "shell.execute_reply": "2022-06-18T19:35:36.498593Z"
    },
    "papermill": {
     "duration": 1.520838,
     "end_time": "2022-06-18T19:35:36.501809",
     "exception": false,
     "start_time": "2022-06-18T19:35:34.980971",
     "status": "completed"
    },
    "tags": []
   },
   "outputs": [
    {
     "name": "stdout",
     "output_type": "stream",
     "text": [
      "\u001b[1m Comparitive Chart of all models\n",
      " Model                             Recall class-1 Recall class-0 f1-score class-1 f1-score class-0\n",
      "Logistic Regression                 0.00 \t\t 1.00 \t\t 0.00 \t\t 1.00\n",
      "Decision Tree                       0.64 \t\t 0.99 \t\t 0.31 \t\t 0.99\n",
      "Logistic Regression Under Sample    0.00 \t\t 1.00 \t\t 0.00 \t\t 1.00\n",
      "Decision Tree Under Sample          0.95 \t\t 0.93 \t\t 0.11 \t\t 0.96\n"
     ]
    }
   ],
   "source": [
    "getComparitiveChart(model_list,'Decision Tree Under Sample',decision_tree_model_undersample)"
   ]
  },
  {
   "cell_type": "code",
   "execution_count": 64,
   "id": "32ed9cd2",
   "metadata": {
    "execution": {
     "iopub.execute_input": "2022-06-18T19:35:36.679560Z",
     "iopub.status.busy": "2022-06-18T19:35:36.679050Z",
     "iopub.status.idle": "2022-06-18T19:35:36.692203Z",
     "shell.execute_reply": "2022-06-18T19:35:36.691512Z"
    },
    "papermill": {
     "duration": 0.101681,
     "end_time": "2022-06-18T19:35:36.693814",
     "exception": false,
     "start_time": "2022-06-18T19:35:36.592133",
     "status": "completed"
    },
    "tags": []
   },
   "outputs": [],
   "source": [
    "def reduce_mem_usage(df):\n",
    "    \"\"\" iterate through all the columns of a dataframe and modify the data type\n",
    "        to reduce memory usage.        \n",
    "    \"\"\"\n",
    "    start_mem = df.memory_usage().sum() / 1024**2\n",
    "    print('Memory usage of dataframe is {:.2f} MB'.format(start_mem))\n",
    "    \n",
    "    for col in df.columns:\n",
    "        col_type = df[col].dtype\n",
    "        \n",
    "        if col_type != object:\n",
    "            c_min = df[col].min()\n",
    "            c_max = df[col].max()\n",
    "            if str(col_type)[:3] == 'int':\n",
    "                if c_min > np.iinfo(np.int8).min and c_max < np.iinfo(np.int8).max:\n",
    "                    df[col] = df[col].astype(np.int8)\n",
    "                elif c_min > np.iinfo(np.int16).min and c_max < np.iinfo(np.int16).max:\n",
    "                    df[col] = df[col].astype(np.int16)\n",
    "                elif c_min > np.iinfo(np.int32).min and c_max < np.iinfo(np.int32).max:\n",
    "                    df[col] = df[col].astype(np.int32)\n",
    "                elif c_min > np.iinfo(np.int64).min and c_max < np.iinfo(np.int64).max:\n",
    "                    df[col] = df[col].astype(np.int64)  \n",
    "            else:\n",
    "                if c_min > np.finfo(np.float16).min and c_max < np.finfo(np.float16).max:\n",
    "                    df[col] = df[col].astype(np.float16)\n",
    "                elif c_min > np.finfo(np.float32).min and c_max < np.finfo(np.float32).max:\n",
    "                    df[col] = df[col].astype(np.float32)\n",
    "                else:\n",
    "                    df[col] = df[col].astype(np.float64)\n",
    "        else:\n",
    "            df[col] = df[col].astype('category')\n",
    "\n",
    "    end_mem = df.memory_usage().sum() / 1024**2\n",
    "    print('Memory usage after optimization is: {:.2f} MB'.format(end_mem))\n",
    "    print('Decreased by {:.1f}%'.format(100 * (start_mem - end_mem) / start_mem))\n",
    "    \n",
    "    return df"
   ]
  },
  {
   "cell_type": "code",
   "execution_count": 55,
   "id": "85c6414c",
   "metadata": {
    "execution": {
     "iopub.execute_input": "2022-06-18T19:35:36.868228Z",
     "iopub.status.busy": "2022-06-18T19:35:36.867538Z",
     "iopub.status.idle": "2022-06-18T19:38:41.485661Z",
     "shell.execute_reply": "2022-06-18T19:38:41.484772Z"
    },
    "papermill": {
     "duration": 184.793409,
     "end_time": "2022-06-18T19:38:41.573833",
     "exception": false,
     "start_time": "2022-06-18T19:35:36.780424",
     "status": "completed"
    },
    "tags": []
   },
   "outputs": [
    {
     "name": "stdout",
     "output_type": "stream",
     "text": [
      "Memory usage of dataframe is 390.27 MB\n",
      "Memory usage after optimization is: 762.74 MB\n",
      "Decreased by -95.4%\n"
     ]
    }
   ],
   "source": [
    "df_train = reduce_mem_usage(df_train)"
   ]
  },
  {
   "cell_type": "code",
   "execution_count": 66,
   "id": "0c84230f",
   "metadata": {
    "execution": {
     "iopub.execute_input": "2022-06-18T19:38:41.750403Z",
     "iopub.status.busy": "2022-06-18T19:38:41.750180Z",
     "iopub.status.idle": "2022-06-18T19:38:45.166471Z",
     "shell.execute_reply": "2022-06-18T19:38:45.165747Z"
    },
    "papermill": {
     "duration": 3.506396,
     "end_time": "2022-06-18T19:38:45.168264",
     "exception": false,
     "start_time": "2022-06-18T19:38:41.661868",
     "status": "completed"
    },
    "tags": []
   },
   "outputs": [
    {
     "name": "stdout",
     "output_type": "stream",
     "text": [
      "\n",
      "========================== Model Test Results ========================\n",
      "\n",
      "=== dc ===\n",
      "Model Accuracy:  98.7%\n",
      "\n",
      "Recall:\n",
      " 0.6384615384615384\n",
      "\n",
      "\n",
      "Classification Report:\n",
      "               precision    recall  f1-score   support\n",
      "\n",
      "           0       1.00      0.99      0.99     27656\n",
      "           1       0.20      0.64      0.31       130\n",
      "\n",
      "    accuracy                           0.99     27786\n",
      "   macro avg       0.60      0.81      0.65     27786\n",
      "weighted avg       0.99      0.99      0.99     27786\n",
      "\n",
      "\n",
      "=== dc_us ===\n",
      "Model Accuracy:  92.7%\n",
      "\n",
      "Recall:\n",
      " 0.9538461538461539\n",
      "\n",
      "\n",
      "Classification Report:\n",
      "               precision    recall  f1-score   support\n",
      "\n",
      "           0       1.00      0.93      0.96     27656\n",
      "           1       0.06      0.95      0.11       130\n",
      "\n",
      "    accuracy                           0.93     27786\n",
      "   macro avg       0.53      0.94      0.54     27786\n",
      "weighted avg       1.00      0.93      0.96     27786\n",
      "\n",
      "\n",
      "=== lr ===\n",
      "Model Accuracy:  99.5%\n",
      "\n",
      "Recall:\n",
      " 0.0\n",
      "\n",
      "\n",
      "Classification Report:\n",
      "               precision    recall  f1-score   support\n",
      "\n",
      "           0       1.00      1.00      1.00     27656\n",
      "           1       0.00      0.00      0.00       130\n",
      "\n",
      "    accuracy                           1.00     27786\n",
      "   macro avg       0.50      0.50      0.50     27786\n",
      "weighted avg       0.99      1.00      0.99     27786\n",
      "\n",
      "\n",
      "=== lr_us ===\n",
      "Model Accuracy:  99.5%\n",
      "\n",
      "Recall:\n",
      " 0.0\n",
      "\n",
      "\n",
      "Classification Report:\n",
      "               precision    recall  f1-score   support\n",
      "\n",
      "           0       1.00      1.00      1.00     27656\n",
      "           1       0.00      0.00      0.00       130\n",
      "\n",
      "    accuracy                           1.00     27786\n",
      "   macro avg       0.50      0.50      0.50     27786\n",
      "weighted avg       0.99      1.00      0.99     27786\n",
      "\n",
      "\n",
      "============================= ROC Curve ===============================\n",
      "\n"
     ]
    },
    {
     "data": {
      "image/png": "[encoded data removed]",
      "text/plain": [
       "<Figure size 432x288 with 1 Axes>"
      ]
     },
     "metadata": {
      "needs_background": "light"
     },
     "output_type": "display_data"
    }
   ],
   "source": [
    "## Comparisions of different models\n",
    "#Test models\n",
    "classdict = {'normal':0, 'fraudulent':1}\n",
    "print()\n",
    "print('========================== Model Test Results ========================' \"\\n\")   \n",
    "modlist = [('dc', decision_tree),\n",
    "           ('dc_us', decision_tree_model_undersample),\n",
    "           ('lr', LR),\n",
    "           ('lr_us', model_LR_under_sample)   \n",
    "          ] \n",
    "models = [j for j in modlist]\n",
    "for i, v in models:\n",
    "    accuracy = metrics.accuracy_score(Y_test, v.predict(df_Test))\n",
    "    confusion_matrix = metrics.confusion_matrix(Y_test, v.predict(df_Test))\n",
    "    classification = metrics.classification_report(Y_test, v.predict(df_Test))   \n",
    "    print('=== {} ==='.format(i))\n",
    "    print (\"Model Accuracy: \",  '{}%'.format(np.round(accuracy, 3) * 100))\n",
    "    print()\n",
    "    print(\"Recall:\" \"\\n\", confusion_matrix[1][1]/130)\n",
    "    print()\n",
    "    #pf.plot_confusion_matrix(confusion_matrix, classes = list(classdict.keys()),title='Confusion Matrix Plot', cmap=plt.cm.summer)\n",
    "    print() \n",
    "    print(\"Classification Report:\" \"\\n\", classification) \n",
    "    print() \n",
    "\n",
    "print('============================= ROC Curve ===============================' \"\\n\")      \n",
    "\n",
    "classifiers = [decision_tree, decision_tree_model_undersample,model_LR_under_sample,LR]\n",
    "ax = plt.gca()\n",
    "for i in classifiers:\n",
    "    metrics.plot_roc_curve(i, df_Test, Y_test, ax=ax)"
   ]
  },
  {
   "cell_type": "code",
   "execution_count": 74,
   "id": "58550f36",
   "metadata": {},
   "outputs": [],
   "source": [
    "y_pred = LR.predict(df_Test)"
   ]
  },
  {
   "cell_type": "code",
   "execution_count": null,
   "id": "17c00d6a",
   "metadata": {},
   "outputs": [],
   "source": [
    "decision_tree, decision_tree_model_undersample,model_LR_under_sample,LR\n",
    "\n",
    " f1_score(y_true, y_pred, average=None)"
   ]
  },
  {
   "cell_type": "code",
   "execution_count": 75,
   "id": "ac12cb61",
   "metadata": {},
   "outputs": [
    {
     "name": "stdout",
     "output_type": "stream",
     "text": [
      "[0.99765521 0.        ]\n"
     ]
    }
   ],
   "source": [
    "print(metrics.f1_score(Y_test, y_pred, average=None))"
   ]
  },
  {
   "cell_type": "code",
   "execution_count": 76,
   "id": "b316e578",
   "metadata": {
    "execution": {
     "iopub.execute_input": "2022-06-18T19:38:45.349217Z",
     "iopub.status.busy": "2022-06-18T19:38:45.348983Z",
     "iopub.status.idle": "2022-06-18T19:38:46.290849Z",
     "shell.execute_reply": "2022-06-18T19:38:46.290201Z"
    },
    "papermill": {
     "duration": 1.03428,
     "end_time": "2022-06-18T19:38:46.292676",
     "exception": false,
     "start_time": "2022-06-18T19:38:45.258396",
     "status": "completed"
    },
    "tags": []
   },
   "outputs": [
    {
     "data": {
      "text/plain": [
       "<matplotlib.legend.Legend at 0x1e0809e48e0>"
      ]
     },
     "execution_count": 76,
     "metadata": {},
     "output_type": "execute_result"
    },
    {
     "data": {
      "image/png": "[encoded data removed]",
      "text/plain": [
       "<Figure size 432x288 with 1 Axes>"
      ]
     },
     "metadata": {
      "needs_background": "light"
     },
     "output_type": "display_data"
    }
   ],
   "source": [
    "y_pred = decision_tree.predict_proba(df_Test)[:, 1]\n",
    "fpr, tpr, _ = metrics.roc_curve(Y_test, y_pred)\n",
    "auc = round(metrics.roc_auc_score(Y_test, y_pred), 2)\n",
    "plt.plot(fpr,tpr,label=\"dc, AUC=\"+str(auc))\n",
    "\n",
    "y_pred = decision_tree_model_undersample.predict_proba(df_Test)[:, 1]\n",
    "fpr, tpr, _ = metrics.roc_curve(Y_test, y_pred)\n",
    "auc = round(metrics.roc_auc_score(Y_test, y_pred), 2)\n",
    "plt.plot(fpr,tpr,label=\"dc_us, AUC=\"+str(auc))\n",
    "\n",
    "#add legend\n",
    "plt.legend()"
   ]
  },
  {
   "cell_type": "code",
   "execution_count": 77,
   "id": "8a2d79cf",
   "metadata": {
    "execution": {
     "iopub.execute_input": "2022-06-18T19:38:46.487123Z",
     "iopub.status.busy": "2022-06-18T19:38:46.486903Z",
     "iopub.status.idle": "2022-06-18T19:38:49.914358Z",
     "shell.execute_reply": "2022-06-18T19:38:49.913458Z"
    },
    "papermill": {
     "duration": 3.526957,
     "end_time": "2022-06-18T19:38:49.916697",
     "exception": false,
     "start_time": "2022-06-18T19:38:46.389740",
     "status": "completed"
    },
    "tags": []
   },
   "outputs": [
    {
     "name": "stdout",
     "output_type": "stream",
     "text": [
      "128963 705\n",
      "(128963, 3078) (705, 3078)\n"
     ]
    }
   ],
   "source": [
    "## Inverse Random Under Sampling (IRUS)\n",
    "# Class count\n",
    "Training_majority_samples, Training_minority_samples = df_train.is_fraud.value_counts()\n",
    "print(Training_majority_samples,Training_minority_samples)# Divide by class\n",
    "df_majority_0 = df_train[df_train['is_fraud'] == 0] # Normal\n",
    "df_minority_1 = df_train[df_train['is_fraud'] == 1] # Fraud\n",
    "print(df_majority_0.shape,df_minority_1.shape)"
   ]
  },
  {
   "cell_type": "code",
   "execution_count": 78,
   "id": "dc1d0fc3",
   "metadata": {
    "execution": {
     "iopub.execute_input": "2022-06-18T19:38:50.101104Z",
     "iopub.status.busy": "2022-06-18T19:38:50.100586Z",
     "iopub.status.idle": "2022-06-18T19:38:50.132271Z",
     "shell.execute_reply": "2022-06-18T19:38:50.131461Z"
    },
    "papermill": {
     "duration": 0.126552,
     "end_time": "2022-06-18T19:38:50.134739",
     "exception": false,
     "start_time": "2022-06-18T19:38:50.008187",
     "status": "completed"
    },
    "tags": []
   },
   "outputs": [
    {
     "name": "stdout",
     "output_type": "stream",
     "text": [
      "(139, 3077)\n"
     ]
    }
   ],
   "source": [
    "df_test_test = df_Test.sample(frac = 0.005,random_state=1)\n",
    "print(df_test_test.shape)"
   ]
  },
  {
   "cell_type": "code",
   "execution_count": 79,
   "id": "93a5f347",
   "metadata": {
    "execution": {
     "iopub.execute_input": "2022-06-18T19:38:50.325968Z",
     "iopub.status.busy": "2022-06-18T19:38:50.325421Z",
     "iopub.status.idle": "2022-06-18T19:38:50.331563Z",
     "shell.execute_reply": "2022-06-18T19:38:50.330798Z"
    },
    "papermill": {
     "duration": 0.102115,
     "end_time": "2022-06-18T19:38:50.333602",
     "exception": false,
     "start_time": "2022-06-18T19:38:50.231487",
     "status": "completed"
    },
    "tags": []
   },
   "outputs": [],
   "source": [
    "import statistics\n",
    "\n",
    "def Average(lst):\n",
    "    return sum(lst)/len(lst)\n",
    "\n",
    "def Std(lst):\n",
    "    return statistics.pstdev(lst)"
   ]
  },
  {
   "cell_type": "code",
   "execution_count": 80,
   "id": "edbb275e",
   "metadata": {
    "execution": {
     "iopub.execute_input": "2022-06-18T19:38:50.516022Z",
     "iopub.status.busy": "2022-06-18T19:38:50.515806Z",
     "iopub.status.idle": "2022-06-18T19:38:50.521336Z",
     "shell.execute_reply": "2022-06-18T19:38:50.520660Z"
    },
    "papermill": {
     "duration": 0.098529,
     "end_time": "2022-06-18T19:38:50.523724",
     "exception": false,
     "start_time": "2022-06-18T19:38:50.425195",
     "status": "completed"
    },
    "tags": []
   },
   "outputs": [],
   "source": [
    "t = (df_Test, Y_test) ## Test Set\n",
    "\n",
    "Samples_S = int(max(2,np.ceil(pow(Training_minority_samples,0.96)))) # S: Number of samplesfrom XNmaj for eachModel, S<Nmin\n",
    "#print(\"Number of samples from XNmaj for each Model : {0}\".format(Samples_S)) \n",
    "Sets = int(np.ceil(np.multiply(1.5,np.divide(Training_majority_samples,Samples_S))))\n",
    "#print(\"Number of classifiers : {0}\".format(Sets))"
   ]
  },
  {
   "cell_type": "code",
   "execution_count": 81,
   "id": "d98550c4",
   "metadata": {
    "execution": {
     "iopub.execute_input": "2022-06-18T19:38:50.709390Z",
     "iopub.status.busy": "2022-06-18T19:38:50.709184Z",
     "iopub.status.idle": "2022-06-18T19:40:51.354048Z",
     "shell.execute_reply": "2022-06-18T19:40:51.352852Z"
    },
    "papermill": {
     "duration": 120.738926,
     "end_time": "2022-06-18T19:40:51.356169",
     "exception": false,
     "start_time": "2022-06-18T19:38:50.617243",
     "status": "completed"
    },
    "tags": []
   },
   "outputs": [
    {
     "name": "stdout",
     "output_type": "stream",
     "text": [
      "573.3777978530658\n",
      "559.4170202952307\n",
      "549.9194914177813\n",
      "576.1851140937815\n",
      "587.799371288952\n",
      "589.2634744900018\n",
      "580.7514275385911\n",
      "581.0503607141017\n",
      "580.2820417370589\n",
      "577.0080293530053\n",
      "577.7251033939774\n",
      "577.6078617215228\n",
      "574.8839850158698\n",
      "573.0460300334578\n",
      "573.5444684391628\n",
      "574.6996508317965\n",
      "575.8805165677587\n",
      "573.237937399832\n",
      "573.8797314321282\n",
      "573.2736376890425\n",
      "574.1298730622092\n",
      "575.3871103530581\n",
      "575.4779327349326\n",
      "575.3214574353616\n",
      "575.5571439431201\n",
      "577.2662004283328\n",
      "574.4627969257064\n",
      "574.535400296919\n",
      "577.1860715343321\n",
      "577.4625468900201\n",
      "579.2415011531829\n",
      "576.4308116541262\n",
      "575.289031298346\n",
      "576.1757202246428\n",
      "576.0646734614808\n",
      "577.0269054206225\n",
      "577.4071310357623\n",
      "576.811286309134\n",
      "575.9880046693742\n",
      "577.1873343889042\n",
      "575.8595880179744\n",
      "575.4658503937816\n",
      "574.8215918438567\n",
      "573.1771180709212\n",
      "573.2884545308065\n",
      "572.9988246862383\n",
      "574.0173547041113\n",
      "573.1586873857188\n",
      "572.2691141576591\n",
      "572.5838008911455\n",
      "573.661712958194\n",
      "574.0150755451616\n",
      "573.7440781785718\n",
      "572.8190824439351\n",
      "572.3085255304229\n",
      "570.9210930279928\n",
      "571.2277594626606\n",
      "571.8422576342713\n",
      "571.4868214283365\n",
      "571.7361508829316\n",
      "572.1663917405791\n",
      "572.2803065614173\n",
      "572.8536014521366\n",
      "572.0425462554743\n",
      "571.2190810481761\n",
      "571.5161927971232\n",
      "572.92863409422\n",
      "572.45062373564\n",
      "572.2445333599666\n",
      "572.4899913062981\n",
      "572.4701355107549\n",
      "572.2778937829873\n",
      "571.4004536419347\n",
      "571.1759745162816\n",
      "570.918754149057\n",
      "570.8407962060719\n",
      "570.4630747345715\n",
      "570.593472101431\n",
      "570.158751328173\n",
      "570.2935336231636\n",
      "570.1768847489004\n",
      "569.4678575760229\n",
      "569.7166034739215\n",
      "569.3729208807163\n",
      "568.9361491793467\n",
      "568.7928432794894\n",
      "569.5079498101056\n",
      "569.1430809040274\n",
      "568.7653246594402\n",
      "568.21541895206\n",
      "568.7944899816154\n",
      "568.3525560102747\n",
      "568.1968718913992\n",
      "567.7402771619549\n",
      "567.8993374407718\n",
      "567.8130830773283\n",
      "567.9513489468213\n",
      "568.4921962034646\n",
      "568.3699030810033\n",
      "568.5809741075024\n",
      "0.057288999999999986\n"
     ]
    }
   ],
   "source": [
    "conf_list = list()\n",
    "z_norm = list()\n",
    "pos_class = list()\n",
    "models = []\n",
    "preds = pd.DataFrame()\n",
    "Sets  = 100\n",
    "for i in range(Sets):\n",
    "    confidence_score = 0\n",
    "    z_norm_avg = 0\n",
    "    df_majority_N = df_majority_0.sample(int(Samples_S),replace = False)\n",
    "    total_samples = pd.concat([df_majority_N, df_minority_1], axis=0)\n",
    "    \n",
    "    X = total_samples.drop('is_fraud',axis='columns')\n",
    "    y = total_samples['is_fraud']\n",
    "    \n",
    "    rf_gs = RandomForestClassifier(n_estimators=100)\n",
    "    rf_gs.fit(X, y)\n",
    "    models.append(rf_gs)\n",
    "        \n",
    "    y_pred =  rf_gs.predict(df_test_test)\n",
    "    prob = rf_gs.predict_proba(df_test_test)[:,1]\n",
    "    pos_class = prob\n",
    "    preds.at[:,i] = prob\n",
    "\n",
    "    #for x in prob:\n",
    "    #    for y in x:\n",
    "    #        if (x[1] > y):\n",
    "    #            pos_class.append(x[1])\n",
    "    #preds = pos            \n",
    "    for i in range(len(pos_class)):\n",
    "        z_norm.append((i - Average(pos_class))/Std(pos_class))\n",
    "        \n",
    "    z_norm_avg = np.sum(z_norm)/len(z_norm)\n",
    "    #print(z_norm_avg)\n",
    "    \n",
    "    #print(z_norm_avg)\n",
    "    confidence_score = confidence_score + z_norm_avg\n",
    "    print(confidence_score)\n",
    "    conf_list.append(confidence_score)\n",
    "    #print(conf_list)\n",
    "    #print(confidence_score)\n",
    "    #print(y_pred)\n",
    "    #print(\"Iteration # {0} : \\n{1}\".format(i,rf_gs.predict_proba(df_Test)))\n",
    "    #print(\"ROC Curve :\" ,metrics.roc_auc_score(Y_test, y_pred))\n",
    "    #print_eval(y_pred, rf_gs)\n",
    "    \n",
    "conf_list = [round(number / Sets,2) for number in conf_list] \n",
    "threshold = Average(conf_list)\n",
    "threshold = threshold/100\n",
    "print(threshold)"
   ]
  },
  {
   "cell_type": "code",
   "execution_count": 82,
   "id": "333e96ad",
   "metadata": {
    "execution": {
     "iopub.execute_input": "2022-06-18T19:40:51.626490Z",
     "iopub.status.busy": "2022-06-18T19:40:51.625677Z",
     "iopub.status.idle": "2022-06-18T19:40:51.664311Z",
     "shell.execute_reply": "2022-06-18T19:40:51.663584Z"
    },
    "papermill": {
     "duration": 0.170077,
     "end_time": "2022-06-18T19:40:51.666025",
     "exception": false,
     "start_time": "2022-06-18T19:40:51.495948",
     "status": "completed"
    },
    "tags": []
   },
   "outputs": [
    {
     "data": {
      "text/html": [
       "<div>\n",
       "<style scoped>\n",
       "    .dataframe tbody tr th:only-of-type {\n",
       "        vertical-align: middle;\n",
       "    }\n",
       "\n",
       "    .dataframe tbody tr th {\n",
       "        vertical-align: top;\n",
       "    }\n",
       "\n",
       "    .dataframe thead th {\n",
       "        text-align: right;\n",
       "    }\n",
       "</style>\n",
       "<table border=\"1\" class=\"dataframe\">\n",
       "  <thead>\n",
       "    <tr style=\"text-align: right;\">\n",
       "      <th></th>\n",
       "      <th>0</th>\n",
       "      <th>1</th>\n",
       "      <th>2</th>\n",
       "      <th>3</th>\n",
       "      <th>4</th>\n",
       "      <th>5</th>\n",
       "      <th>6</th>\n",
       "      <th>7</th>\n",
       "      <th>8</th>\n",
       "      <th>9</th>\n",
       "      <th>...</th>\n",
       "      <th>90</th>\n",
       "      <th>91</th>\n",
       "      <th>92</th>\n",
       "      <th>93</th>\n",
       "      <th>94</th>\n",
       "      <th>95</th>\n",
       "      <th>96</th>\n",
       "      <th>97</th>\n",
       "      <th>98</th>\n",
       "      <th>99</th>\n",
       "    </tr>\n",
       "  </thead>\n",
       "  <tbody>\n",
       "    <tr>\n",
       "      <th>0</th>\n",
       "      <td>0.64</td>\n",
       "      <td>0.61</td>\n",
       "      <td>0.57</td>\n",
       "      <td>0.58</td>\n",
       "      <td>0.61</td>\n",
       "      <td>0.61</td>\n",
       "      <td>0.58</td>\n",
       "      <td>0.61</td>\n",
       "      <td>0.56</td>\n",
       "      <td>0.60</td>\n",
       "      <td>...</td>\n",
       "      <td>0.45</td>\n",
       "      <td>0.46</td>\n",
       "      <td>0.51</td>\n",
       "      <td>0.49</td>\n",
       "      <td>0.47</td>\n",
       "      <td>0.49</td>\n",
       "      <td>0.41</td>\n",
       "      <td>0.51</td>\n",
       "      <td>0.57</td>\n",
       "      <td>0.47</td>\n",
       "    </tr>\n",
       "    <tr>\n",
       "      <th>1</th>\n",
       "      <td>0.40</td>\n",
       "      <td>0.35</td>\n",
       "      <td>0.40</td>\n",
       "      <td>0.41</td>\n",
       "      <td>0.38</td>\n",
       "      <td>0.32</td>\n",
       "      <td>0.26</td>\n",
       "      <td>0.41</td>\n",
       "      <td>0.38</td>\n",
       "      <td>0.26</td>\n",
       "      <td>...</td>\n",
       "      <td>0.26</td>\n",
       "      <td>0.37</td>\n",
       "      <td>0.22</td>\n",
       "      <td>0.22</td>\n",
       "      <td>0.34</td>\n",
       "      <td>0.35</td>\n",
       "      <td>0.39</td>\n",
       "      <td>0.45</td>\n",
       "      <td>0.45</td>\n",
       "      <td>0.33</td>\n",
       "    </tr>\n",
       "    <tr>\n",
       "      <th>2</th>\n",
       "      <td>0.18</td>\n",
       "      <td>0.22</td>\n",
       "      <td>0.27</td>\n",
       "      <td>0.26</td>\n",
       "      <td>0.23</td>\n",
       "      <td>0.31</td>\n",
       "      <td>0.18</td>\n",
       "      <td>0.28</td>\n",
       "      <td>0.27</td>\n",
       "      <td>0.20</td>\n",
       "      <td>...</td>\n",
       "      <td>0.29</td>\n",
       "      <td>0.20</td>\n",
       "      <td>0.17</td>\n",
       "      <td>0.20</td>\n",
       "      <td>0.21</td>\n",
       "      <td>0.36</td>\n",
       "      <td>0.33</td>\n",
       "      <td>0.17</td>\n",
       "      <td>0.26</td>\n",
       "      <td>0.29</td>\n",
       "    </tr>\n",
       "    <tr>\n",
       "      <th>3</th>\n",
       "      <td>0.17</td>\n",
       "      <td>0.30</td>\n",
       "      <td>0.35</td>\n",
       "      <td>0.32</td>\n",
       "      <td>0.47</td>\n",
       "      <td>0.21</td>\n",
       "      <td>0.39</td>\n",
       "      <td>0.28</td>\n",
       "      <td>0.21</td>\n",
       "      <td>0.21</td>\n",
       "      <td>...</td>\n",
       "      <td>0.36</td>\n",
       "      <td>0.36</td>\n",
       "      <td>0.17</td>\n",
       "      <td>0.30</td>\n",
       "      <td>0.17</td>\n",
       "      <td>0.36</td>\n",
       "      <td>0.29</td>\n",
       "      <td>0.39</td>\n",
       "      <td>0.38</td>\n",
       "      <td>0.16</td>\n",
       "    </tr>\n",
       "    <tr>\n",
       "      <th>4</th>\n",
       "      <td>0.38</td>\n",
       "      <td>0.35</td>\n",
       "      <td>0.30</td>\n",
       "      <td>0.23</td>\n",
       "      <td>0.29</td>\n",
       "      <td>0.27</td>\n",
       "      <td>0.21</td>\n",
       "      <td>0.21</td>\n",
       "      <td>0.24</td>\n",
       "      <td>0.20</td>\n",
       "      <td>...</td>\n",
       "      <td>0.25</td>\n",
       "      <td>0.28</td>\n",
       "      <td>0.16</td>\n",
       "      <td>0.22</td>\n",
       "      <td>0.19</td>\n",
       "      <td>0.22</td>\n",
       "      <td>0.22</td>\n",
       "      <td>0.30</td>\n",
       "      <td>0.21</td>\n",
       "      <td>0.20</td>\n",
       "    </tr>\n",
       "    <tr>\n",
       "      <th>...</th>\n",
       "      <td>...</td>\n",
       "      <td>...</td>\n",
       "      <td>...</td>\n",
       "      <td>...</td>\n",
       "      <td>...</td>\n",
       "      <td>...</td>\n",
       "      <td>...</td>\n",
       "      <td>...</td>\n",
       "      <td>...</td>\n",
       "      <td>...</td>\n",
       "      <td>...</td>\n",
       "      <td>...</td>\n",
       "      <td>...</td>\n",
       "      <td>...</td>\n",
       "      <td>...</td>\n",
       "      <td>...</td>\n",
       "      <td>...</td>\n",
       "      <td>...</td>\n",
       "      <td>...</td>\n",
       "      <td>...</td>\n",
       "      <td>...</td>\n",
       "    </tr>\n",
       "    <tr>\n",
       "      <th>134</th>\n",
       "      <td>0.39</td>\n",
       "      <td>0.20</td>\n",
       "      <td>0.45</td>\n",
       "      <td>0.31</td>\n",
       "      <td>0.40</td>\n",
       "      <td>0.35</td>\n",
       "      <td>0.29</td>\n",
       "      <td>0.26</td>\n",
       "      <td>0.27</td>\n",
       "      <td>0.35</td>\n",
       "      <td>...</td>\n",
       "      <td>0.37</td>\n",
       "      <td>0.22</td>\n",
       "      <td>0.31</td>\n",
       "      <td>0.23</td>\n",
       "      <td>0.32</td>\n",
       "      <td>0.55</td>\n",
       "      <td>0.31</td>\n",
       "      <td>0.30</td>\n",
       "      <td>0.33</td>\n",
       "      <td>0.37</td>\n",
       "    </tr>\n",
       "    <tr>\n",
       "      <th>135</th>\n",
       "      <td>0.24</td>\n",
       "      <td>0.35</td>\n",
       "      <td>0.22</td>\n",
       "      <td>0.21</td>\n",
       "      <td>0.24</td>\n",
       "      <td>0.36</td>\n",
       "      <td>0.10</td>\n",
       "      <td>0.26</td>\n",
       "      <td>0.18</td>\n",
       "      <td>0.21</td>\n",
       "      <td>...</td>\n",
       "      <td>0.25</td>\n",
       "      <td>0.13</td>\n",
       "      <td>0.14</td>\n",
       "      <td>0.21</td>\n",
       "      <td>0.23</td>\n",
       "      <td>0.19</td>\n",
       "      <td>0.20</td>\n",
       "      <td>0.38</td>\n",
       "      <td>0.24</td>\n",
       "      <td>0.24</td>\n",
       "    </tr>\n",
       "    <tr>\n",
       "      <th>136</th>\n",
       "      <td>0.33</td>\n",
       "      <td>0.54</td>\n",
       "      <td>0.41</td>\n",
       "      <td>0.37</td>\n",
       "      <td>0.28</td>\n",
       "      <td>0.40</td>\n",
       "      <td>0.29</td>\n",
       "      <td>0.40</td>\n",
       "      <td>0.43</td>\n",
       "      <td>0.44</td>\n",
       "      <td>...</td>\n",
       "      <td>0.41</td>\n",
       "      <td>0.37</td>\n",
       "      <td>0.28</td>\n",
       "      <td>0.57</td>\n",
       "      <td>0.48</td>\n",
       "      <td>0.52</td>\n",
       "      <td>0.45</td>\n",
       "      <td>0.26</td>\n",
       "      <td>0.33</td>\n",
       "      <td>0.48</td>\n",
       "    </tr>\n",
       "    <tr>\n",
       "      <th>137</th>\n",
       "      <td>0.70</td>\n",
       "      <td>0.47</td>\n",
       "      <td>0.54</td>\n",
       "      <td>0.58</td>\n",
       "      <td>0.56</td>\n",
       "      <td>0.59</td>\n",
       "      <td>0.69</td>\n",
       "      <td>0.49</td>\n",
       "      <td>0.41</td>\n",
       "      <td>0.51</td>\n",
       "      <td>...</td>\n",
       "      <td>0.63</td>\n",
       "      <td>0.61</td>\n",
       "      <td>0.57</td>\n",
       "      <td>0.55</td>\n",
       "      <td>0.47</td>\n",
       "      <td>0.62</td>\n",
       "      <td>0.54</td>\n",
       "      <td>0.59</td>\n",
       "      <td>0.60</td>\n",
       "      <td>0.59</td>\n",
       "    </tr>\n",
       "    <tr>\n",
       "      <th>138</th>\n",
       "      <td>0.23</td>\n",
       "      <td>0.19</td>\n",
       "      <td>0.19</td>\n",
       "      <td>0.22</td>\n",
       "      <td>0.35</td>\n",
       "      <td>0.21</td>\n",
       "      <td>0.20</td>\n",
       "      <td>0.13</td>\n",
       "      <td>0.29</td>\n",
       "      <td>0.11</td>\n",
       "      <td>...</td>\n",
       "      <td>0.20</td>\n",
       "      <td>0.21</td>\n",
       "      <td>0.11</td>\n",
       "      <td>0.29</td>\n",
       "      <td>0.32</td>\n",
       "      <td>0.27</td>\n",
       "      <td>0.29</td>\n",
       "      <td>0.31</td>\n",
       "      <td>0.26</td>\n",
       "      <td>0.17</td>\n",
       "    </tr>\n",
       "  </tbody>\n",
       "</table>\n",
       "<p>139 rows × 100 columns</p>\n",
       "</div>"
      ],
      "text/plain": [
       "       0     1     2     3     4     5     6     7     8     9   ...    90  \\\n",
       "0    0.64  0.61  0.57  0.58  0.61  0.61  0.58  0.61  0.56  0.60  ...  0.45   \n",
       "1    0.40  0.35  0.40  0.41  0.38  0.32  0.26  0.41  0.38  0.26  ...  0.26   \n",
       "2    0.18  0.22  0.27  0.26  0.23  0.31  0.18  0.28  0.27  0.20  ...  0.29   \n",
       "3    0.17  0.30  0.35  0.32  0.47  0.21  0.39  0.28  0.21  0.21  ...  0.36   \n",
       "4    0.38  0.35  0.30  0.23  0.29  0.27  0.21  0.21  0.24  0.20  ...  0.25   \n",
       "..    ...   ...   ...   ...   ...   ...   ...   ...   ...   ...  ...   ...   \n",
       "134  0.39  0.20  0.45  0.31  0.40  0.35  0.29  0.26  0.27  0.35  ...  0.37   \n",
       "135  0.24  0.35  0.22  0.21  0.24  0.36  0.10  0.26  0.18  0.21  ...  0.25   \n",
       "136  0.33  0.54  0.41  0.37  0.28  0.40  0.29  0.40  0.43  0.44  ...  0.41   \n",
       "137  0.70  0.47  0.54  0.58  0.56  0.59  0.69  0.49  0.41  0.51  ...  0.63   \n",
       "138  0.23  0.19  0.19  0.22  0.35  0.21  0.20  0.13  0.29  0.11  ...  0.20   \n",
       "\n",
       "       91    92    93    94    95    96    97    98    99  \n",
       "0    0.46  0.51  0.49  0.47  0.49  0.41  0.51  0.57  0.47  \n",
       "1    0.37  0.22  0.22  0.34  0.35  0.39  0.45  0.45  0.33  \n",
       "2    0.20  0.17  0.20  0.21  0.36  0.33  0.17  0.26  0.29  \n",
       "3    0.36  0.17  0.30  0.17  0.36  0.29  0.39  0.38  0.16  \n",
       "4    0.28  0.16  0.22  0.19  0.22  0.22  0.30  0.21  0.20  \n",
       "..    ...   ...   ...   ...   ...   ...   ...   ...   ...  \n",
       "134  0.22  0.31  0.23  0.32  0.55  0.31  0.30  0.33  0.37  \n",
       "135  0.13  0.14  0.21  0.23  0.19  0.20  0.38  0.24  0.24  \n",
       "136  0.37  0.28  0.57  0.48  0.52  0.45  0.26  0.33  0.48  \n",
       "137  0.61  0.57  0.55  0.47  0.62  0.54  0.59  0.60  0.59  \n",
       "138  0.21  0.11  0.29  0.32  0.27  0.29  0.31  0.26  0.17  \n",
       "\n",
       "[139 rows x 100 columns]"
      ]
     },
     "execution_count": 82,
     "metadata": {},
     "output_type": "execute_result"
    }
   ],
   "source": [
    "preds"
   ]
  },
  {
   "cell_type": "code",
   "execution_count": 83,
   "id": "f7ed8cde",
   "metadata": {
    "execution": {
     "iopub.execute_input": "2022-06-18T19:40:51.923396Z",
     "iopub.status.busy": "2022-06-18T19:40:51.923113Z",
     "iopub.status.idle": "2022-06-18T19:40:51.933073Z",
     "shell.execute_reply": "2022-06-18T19:40:51.932306Z"
    },
    "papermill": {
     "duration": 0.13799,
     "end_time": "2022-06-18T19:40:51.934865",
     "exception": false,
     "start_time": "2022-06-18T19:40:51.796875",
     "status": "completed"
    },
    "tags": []
   },
   "outputs": [
    {
     "data": {
      "text/plain": [
       "0      0.5653\n",
       "1      0.3405\n",
       "2      0.2365\n",
       "3      0.3066\n",
       "4      0.2359\n",
       "        ...  \n",
       "134    0.3339\n",
       "135    0.2083\n",
       "136    0.4072\n",
       "137    0.5635\n",
       "138    0.2159\n",
       "Length: 139, dtype: float64"
      ]
     },
     "execution_count": 83,
     "metadata": {},
     "output_type": "execute_result"
    }
   ],
   "source": [
    "y_preds = preds.mean(axis=1)\n",
    "y_preds"
   ]
  },
  {
   "cell_type": "code",
   "execution_count": 84,
   "id": "de6c9106",
   "metadata": {
    "execution": {
     "iopub.execute_input": "2022-06-18T19:40:52.191970Z",
     "iopub.status.busy": "2022-06-18T19:40:52.191720Z",
     "iopub.status.idle": "2022-06-18T19:40:52.198869Z",
     "shell.execute_reply": "2022-06-18T19:40:52.198216Z"
    },
    "papermill": {
     "duration": 0.133874,
     "end_time": "2022-06-18T19:40:52.200550",
     "exception": false,
     "start_time": "2022-06-18T19:40:52.066676",
     "status": "completed"
    },
    "tags": []
   },
   "outputs": [
    {
     "data": {
      "text/plain": [
       "0      1\n",
       "1      0\n",
       "2      0\n",
       "3      0\n",
       "4      0\n",
       "      ..\n",
       "134    0\n",
       "135    0\n",
       "136    0\n",
       "137    1\n",
       "138    0\n",
       "Length: 139, dtype: int64"
      ]
     },
     "execution_count": 84,
     "metadata": {},
     "output_type": "execute_result"
    }
   ],
   "source": [
    "y_preds = y_preds.apply(lambda x: 1 if x > 0.5 else 0)\n",
    "y_preds"
   ]
  },
  {
   "cell_type": "code",
   "execution_count": 85,
   "id": "e5aac1d8",
   "metadata": {
    "execution": {
     "iopub.execute_input": "2022-06-18T19:40:52.453751Z",
     "iopub.status.busy": "2022-06-18T19:40:52.453506Z",
     "iopub.status.idle": "2022-06-18T19:43:02.131141Z",
     "shell.execute_reply": "2022-06-18T19:43:02.130385Z"
    },
    "papermill": {
     "duration": 129.807569,
     "end_time": "2022-06-18T19:43:02.133280",
     "exception": false,
     "start_time": "2022-06-18T19:40:52.325711",
     "status": "completed"
    },
    "tags": []
   },
   "outputs": [],
   "source": [
    "ensemble_pred = pd.DataFrame()\n",
    "for i, model in enumerate(models):\n",
    "    ensemble_pred.at[:,i] = model.predict_proba(df_Test)[:, 1]"
   ]
  },
  {
   "cell_type": "code",
   "execution_count": 86,
   "id": "75fe47ee",
   "metadata": {
    "execution": {
     "iopub.execute_input": "2022-06-18T19:43:02.381043Z",
     "iopub.status.busy": "2022-06-18T19:43:02.380813Z",
     "iopub.status.idle": "2022-06-18T19:43:02.404085Z",
     "shell.execute_reply": "2022-06-18T19:43:02.403406Z"
    },
    "papermill": {
     "duration": 0.14891,
     "end_time": "2022-06-18T19:43:02.405859",
     "exception": false,
     "start_time": "2022-06-18T19:43:02.256949",
     "status": "completed"
    },
    "tags": []
   },
   "outputs": [
    {
     "data": {
      "text/plain": [
       "0        0.1957\n",
       "1        0.2581\n",
       "2        0.3929\n",
       "3        0.3608\n",
       "4        0.3690\n",
       "          ...  \n",
       "27781    0.3148\n",
       "27782    0.3112\n",
       "27783    0.3179\n",
       "27784    0.3907\n",
       "27785    0.3169\n",
       "Length: 27786, dtype: float64"
      ]
     },
     "execution_count": 86,
     "metadata": {},
     "output_type": "execute_result"
    }
   ],
   "source": [
    "ensemble_preds = ensemble_pred.mean(axis=1)\n",
    "ensemble_preds"
   ]
  },
  {
   "cell_type": "code",
   "execution_count": 87,
   "id": "fbe8b9ed",
   "metadata": {
    "execution": {
     "iopub.execute_input": "2022-06-18T19:43:02.656845Z",
     "iopub.status.busy": "2022-06-18T19:43:02.656216Z",
     "iopub.status.idle": "2022-06-18T19:43:02.675796Z",
     "shell.execute_reply": "2022-06-18T19:43:02.675185Z"
    },
    "papermill": {
     "duration": 0.1446,
     "end_time": "2022-06-18T19:43:02.677492",
     "exception": false,
     "start_time": "2022-06-18T19:43:02.532892",
     "status": "completed"
    },
    "tags": []
   },
   "outputs": [],
   "source": [
    "ensemble_preds_labels = ensemble_preds.apply(lambda x: 1 if x > 0.5 else 0)"
   ]
  },
  {
   "cell_type": "code",
   "execution_count": 94,
   "id": "d2c7d3ab",
   "metadata": {
    "execution": {
     "iopub.execute_input": "2022-06-18T19:43:02.924279Z",
     "iopub.status.busy": "2022-06-18T19:43:02.924044Z",
     "iopub.status.idle": "2022-06-18T19:43:02.930472Z",
     "shell.execute_reply": "2022-06-18T19:43:02.929804Z"
    },
    "papermill": {
     "duration": 0.133527,
     "end_time": "2022-06-18T19:43:02.932109",
     "exception": false,
     "start_time": "2022-06-18T19:43:02.798582",
     "status": "completed"
    },
    "tags": []
   },
   "outputs": [
    {
     "data": {
      "text/plain": [
       "0        0\n",
       "1        0\n",
       "2        0\n",
       "3        0\n",
       "4        0\n",
       "        ..\n",
       "27781    0\n",
       "27782    0\n",
       "27783    0\n",
       "27784    0\n",
       "27785    0\n",
       "Length: 27786, dtype: int64"
      ]
     },
     "execution_count": 94,
     "metadata": {},
     "output_type": "execute_result"
    }
   ],
   "source": [
    "ensemble_preds_labels"
   ]
  },
  {
   "cell_type": "code",
   "execution_count": 70,
   "id": "b8fd5181",
   "metadata": {
    "execution": {
     "iopub.execute_input": "2022-06-18T19:43:03.182354Z",
     "iopub.status.busy": "2022-06-18T19:43:03.182001Z",
     "iopub.status.idle": "2022-06-18T19:43:04.196615Z",
     "shell.execute_reply": "2022-06-18T19:43:04.195979Z"
    },
    "papermill": {
     "duration": 1.141683,
     "end_time": "2022-06-18T19:43:04.198404",
     "exception": false,
     "start_time": "2022-06-18T19:43:03.056721",
     "status": "completed"
    },
    "tags": []
   },
   "outputs": [
    {
     "name": "stdout",
     "output_type": "stream",
     "text": [
      "=== {dc_irus} ===\n",
      "Model Accuracy:  95.0%\n",
      "\n",
      "Recall:\n",
      " 0.7846153846153846\n",
      "\n",
      "Confusion Matrix:\n",
      " [[26289    28]\n",
      " [ 1367   102]]\n",
      "\n",
      "Classification Report:\n",
      "               precision    recall  f1-score   support\n",
      "\n",
      "           0       0.95      1.00      0.97     26317\n",
      "           1       0.78      0.07      0.13      1469\n",
      "\n",
      "    accuracy                           0.95     27786\n",
      "   macro avg       0.87      0.53      0.55     27786\n",
      "weighted avg       0.94      0.95      0.93     27786\n",
      "\n",
      "============================= ROC Curve ===============================\n",
      "\n"
     ]
    },
    {
     "data": {
      "image/png": "[encoded data removed]",
      "text/plain": [
       "<Figure size 432x288 with 1 Axes>"
      ]
     },
     "metadata": {
      "needs_background": "light"
     },
     "output_type": "display_data"
    }
   ],
   "source": [
    "accuracy = metrics.accuracy_score(ensemble_preds_labels,Y_test)\n",
    "confusion_matrix = metrics.confusion_matrix(ensemble_preds_labels,Y_test)\n",
    "classification = metrics.classification_report(ensemble_preds_labels,Y_test)\n",
    "\n",
    "print('=== {dc_irus} ===')\n",
    "print (\"Model Accuracy: \",  '{}%'.format(np.round(accuracy, 3) * 100))\n",
    "print()\n",
    "print(\"Recall:\" \"\\n\", confusion_matrix[1][1]/130)\n",
    "print()\n",
    "print(\"Confusion Matrix:\" \"\\n\", confusion_matrix)\n",
    "print()\n",
    "print(\"Classification Report:\" \"\\n\", classification) \n",
    "\n",
    "\n",
    "print('============================= ROC Curve ===============================' \"\\n\")   \n",
    "\n",
    "y_pred = decision_tree.predict_proba(df_Test)[:, 1]\n",
    "fpr, tpr, _ = metrics.roc_curve(Y_test, y_pred)\n",
    "auc = round(metrics.roc_auc_score(Y_test, y_pred), 2)\n",
    "plt.plot(fpr,tpr,label=\"dc, AUC=\"+str(auc))\n",
    "\n",
    "y_pred = decision_tree_model_undersample.predict_proba(df_Test)[:, 1]\n",
    "fpr, tpr, _ = metrics.roc_curve(Y_test, y_pred)\n",
    "auc = round(metrics.roc_auc_score(Y_test, y_pred), 2)\n",
    "plt.plot(fpr,tpr,label=\"dc_us, AUC=\"+str(auc))\n",
    "\n",
    "#add legend\n",
    "plt.legend()\n",
    "\n",
    "#y_pred_proba = rf_gs.predict_proba(df_Test)[::,1]\n",
    "fpr, tpr, _ = metrics.roc_curve(Y_test, ensemble_preds)\n",
    "auc = round(metrics.roc_auc_score(Y_test, ensemble_preds),2)\n",
    "plt.plot(fpr,tpr,label=\"dc_irus,AUC=\"+str(auc))\n",
    "\n",
    "#create ROC curve\n",
    "plt.ylabel('True Positive Rate')\n",
    "plt.xlabel('False Positive Rate')\n",
    "plt.legend(loc=4)\n",
    "plt.show()"
   ]
  },
  {
   "cell_type": "code",
   "execution_count": null,
   "id": "581098ef",
   "metadata": {
    "papermill": {
     "duration": 0.12593,
     "end_time": "2022-06-18T19:43:04.451078",
     "exception": false,
     "start_time": "2022-06-18T19:43:04.325148",
     "status": "completed"
    },
    "tags": []
   },
   "outputs": [],
   "source": []
  }
 ],
 "metadata": {
  "kernelspec": {
   "display_name": "Python 3",
   "language": "python",
   "name": "python3"
  },
  "language_info": {
   "codemirror_mode": {
    "name": "ipython",
    "version": 3
   },
   "file_extension": ".py",
   "mimetype": "text/x-python",
   "name": "python",
   "nbconvert_exporter": "python",
   "pygments_lexer": "ipython3",
   "version": "3.9.5"
  },
  "papermill": {
   "default_parameters": {},
   "duration": 612.08191,
   "end_time": "2022-06-18T19:43:05.496155",
   "environment_variables": {},
   "exception": null,
   "input_path": "__notebook__.ipynb",
   "output_path": "__notebook__.ipynb",
   "parameters": {},
   "start_time": "2022-06-18T19:32:53.414245",
   "version": "2.3.4"
  }
 },
 "nbformat": 4,
 "nbformat_minor": 5
}
